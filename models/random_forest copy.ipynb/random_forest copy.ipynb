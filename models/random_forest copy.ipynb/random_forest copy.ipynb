{
 "cells": [
  {
   "cell_type": "code",
   "execution_count": 1,
   "metadata": {},
   "outputs": [],
   "source": [
    "import numpy as np\n",
    "import pandas as pd\n",
    "from sklearn.model_selection import train_test_split\n",
    "from sklearn.preprocessing import StandardScaler\n",
    "from sklearn.ensemble import RandomForestClassifier\n",
    "from sklearn.metrics import confusion_matrix, classification_report, accuracy_score\n",
    "import matplotlib.pyplot as plt\n",
    "from sklearn.metrics import precision_score, recall_score, roc_auc_score, roc_curve\n",
    "from sklearn.preprocessing import MinMaxScaler\n",
    "\n",
    "\n",
    "# Set random seed to ensure reproducible runs\n",
    "RSEED = 50\n",
    "\n",
    "# Load the dataset\n",
    "df = pd.read_csv('/Users/alexandersimakov/Documents/NeueFische/August/ml-project/ml-project/data/data/Final_Data 3.csv')\n",
    "\n"
   ]
  },
  {
   "cell_type": "code",
   "execution_count": 23,
   "metadata": {},
   "outputs": [
    {
     "name": "stdout",
     "output_type": "stream",
     "text": [
      "<class 'pandas.core.frame.DataFrame'>\n",
      "RangeIndex: 209222 entries, 0 to 209221\n",
      "Data columns (total 8 columns):\n",
      " #   Column                      Non-Null Count   Dtype  \n",
      "---  ------                      --------------   -----  \n",
      " 0   created_at                  209222 non-null  object \n",
      " 1   goal                        209222 non-null  float64\n",
      " 2   state                       209222 non-null  int64  \n",
      " 3   country_new                 209222 non-null  int64  \n",
      " 4   category_num                209222 non-null  int64  \n",
      " 5   disable_communication_True  209222 non-null  bool   \n",
      " 6   is_starrable_True           209222 non-null  bool   \n",
      " 7   staff_pick_True             209222 non-null  bool   \n",
      "dtypes: bool(3), float64(1), int64(3), object(1)\n",
      "memory usage: 8.6+ MB\n",
      "None\n",
      "               goal          state    country_new   category_num\n",
      "count  2.092220e+05  209222.000000  209222.000000  209222.000000\n",
      "mean   4.917604e+04       1.526493       1.705184      66.307023\n",
      "std    1.179427e+06       0.564966       3.906700      43.699578\n",
      "min    1.000000e-02       0.000000       0.000000       0.000000\n",
      "25%    1.500000e+03       1.000000       0.000000      27.000000\n",
      "50%    5.000000e+03       2.000000       0.000000      65.000000\n",
      "75%    1.500000e+04       2.000000       1.000000      99.000000\n",
      "max    1.000000e+08       2.000000      21.000000     158.000000\n"
     ]
    }
   ],
   "source": [
    "# Check the structure of the dataset\n",
    "print(df.info())\n",
    "print(df.describe())\n"
   ]
  },
  {
   "cell_type": "code",
   "execution_count": 2,
   "metadata": {},
   "outputs": [],
   "source": [
    "\n",
    "df['created_at'] = pd.to_datetime(df['created_at'])\n",
    "\n",
    "df['created_at'] = df['created_at'].dt.month"
   ]
  },
  {
   "cell_type": "code",
   "execution_count": 3,
   "metadata": {},
   "outputs": [],
   "source": [
    "#excluding all \"live\" projects\n",
    "\n",
    "df_filtered = df[df['state'] != 0]"
   ]
  },
  {
   "cell_type": "code",
   "execution_count": 4,
   "metadata": {},
   "outputs": [],
   "source": [
    "df = df_filtered\n"
   ]
  },
  {
   "cell_type": "code",
   "execution_count": 5,
   "metadata": {},
   "outputs": [],
   "source": [
    "\n",
    "# Target and features\n",
    "y = df['state']\n",
    "X = df.drop('state', axis=1)"
   ]
  },
  {
   "cell_type": "code",
   "execution_count": 6,
   "metadata": {},
   "outputs": [],
   "source": [
    "# Split data into training and test sets\n",
    "X_train, X_test, y_train, y_test = train_test_split(X, y, test_size=0.3, random_state=42)"
   ]
  },
  {
   "cell_type": "markdown",
   "metadata": {},
   "source": [
    "##NON SCALED OPTION\n"
   ]
  },
  {
   "cell_type": "code",
   "execution_count": 12,
   "metadata": {},
   "outputs": [
    {
     "name": "stdout",
     "output_type": "stream",
     "text": [
      "Fitting 7 folds for each of 25 candidates, totalling 175 fits\n",
      "[CV 1/7] END bootstrap=True, max_depth=7, max_features=0.8999999999999999, max_leaf_nodes=46, min_samples_split=2, n_estimators=187;, score=0.718 total time=  16.9s\n",
      "[CV 1/7] END bootstrap=True, max_depth=12, max_features=None, max_leaf_nodes=20, min_samples_split=5, n_estimators=184;, score=0.717 total time=  19.8s\n",
      "[CV 6/7] END bootstrap=True, max_depth=12, max_features=None, max_leaf_nodes=20, min_samples_split=5, n_estimators=184;, score=0.718 total time=  20.0s\n",
      "[CV 2/7] END bootstrap=True, max_depth=12, max_features=None, max_leaf_nodes=20, min_samples_split=5, n_estimators=184;, score=0.722 total time=  20.1s\n",
      "[CV 3/7] END bootstrap=True, max_depth=12, max_features=None, max_leaf_nodes=20, min_samples_split=5, n_estimators=184;, score=0.709 total time=  20.2s\n",
      "[CV 7/7] END bootstrap=True, max_depth=12, max_features=None, max_leaf_nodes=20, min_samples_split=5, n_estimators=184;, score=0.717 total time=  20.2s\n",
      "[CV 5/7] END bootstrap=True, max_depth=12, max_features=None, max_leaf_nodes=20, min_samples_split=5, n_estimators=184;, score=0.714 total time=  20.3s\n",
      "[CV 4/7] END bootstrap=True, max_depth=12, max_features=None, max_leaf_nodes=20, min_samples_split=5, n_estimators=184;, score=0.715 total time=  20.3s\n",
      "[CV 1/7] END bootstrap=False, max_depth=16, max_features=0.8999999999999999, max_leaf_nodes=24, min_samples_split=10, n_estimators=102;, score=0.722 total time=  12.8s\n",
      "[CV 2/7] END bootstrap=False, max_depth=16, max_features=0.8999999999999999, max_leaf_nodes=24, min_samples_split=10, n_estimators=102;, score=0.732 total time=  12.9s\n",
      "[CV 2/7] END bootstrap=True, max_depth=7, max_features=0.8999999999999999, max_leaf_nodes=46, min_samples_split=2, n_estimators=187;, score=0.720 total time=  16.7s\n",
      "[CV 3/7] END bootstrap=True, max_depth=7, max_features=0.8999999999999999, max_leaf_nodes=46, min_samples_split=2, n_estimators=187;, score=0.713 total time=  16.0s\n",
      "[CV 4/7] END bootstrap=True, max_depth=7, max_features=0.8999999999999999, max_leaf_nodes=46, min_samples_split=2, n_estimators=187;, score=0.715 total time=  16.1s\n",
      "[CV 5/7] END bootstrap=True, max_depth=7, max_features=0.8999999999999999, max_leaf_nodes=46, min_samples_split=2, n_estimators=187;, score=0.712 total time=  16.3s\n",
      "[CV 7/7] END bootstrap=True, max_depth=7, max_features=0.8999999999999999, max_leaf_nodes=46, min_samples_split=2, n_estimators=187;, score=0.718 total time=  16.2s\n",
      "[CV 6/7] END bootstrap=True, max_depth=7, max_features=0.8999999999999999, max_leaf_nodes=46, min_samples_split=2, n_estimators=187;, score=0.715 total time=  16.5s\n",
      "[CV 1/7] END bootstrap=True, max_depth=5, max_features=0.6, max_leaf_nodes=16, min_samples_split=2, n_estimators=148;, score=0.685 total time=   6.9s\n",
      "[CV 2/7] END bootstrap=True, max_depth=5, max_features=0.6, max_leaf_nodes=16, min_samples_split=2, n_estimators=148;, score=0.693 total time=   6.9s\n",
      "[CV 3/7] END bootstrap=True, max_depth=5, max_features=0.6, max_leaf_nodes=16, min_samples_split=2, n_estimators=148;, score=0.689 total time=   6.9s\n",
      "[CV 4/7] END bootstrap=False, max_depth=16, max_features=0.8999999999999999, max_leaf_nodes=24, min_samples_split=10, n_estimators=102;, score=0.726 total time=  12.0s\n",
      "[CV 3/7] END bootstrap=False, max_depth=16, max_features=0.8999999999999999, max_leaf_nodes=24, min_samples_split=10, n_estimators=102;, score=0.724 total time=  12.2s\n",
      "[CV 5/7] END bootstrap=False, max_depth=16, max_features=0.8999999999999999, max_leaf_nodes=24, min_samples_split=10, n_estimators=102;, score=0.724 total time=  12.4s\n",
      "[CV 6/7] END bootstrap=False, max_depth=16, max_features=0.8999999999999999, max_leaf_nodes=24, min_samples_split=10, n_estimators=102;, score=0.727 total time=  12.6s\n",
      "[CV 7/7] END bootstrap=False, max_depth=16, max_features=0.8999999999999999, max_leaf_nodes=24, min_samples_split=10, n_estimators=102;, score=0.726 total time=  12.5s\n",
      "[CV 5/7] END bootstrap=True, max_depth=5, max_features=0.6, max_leaf_nodes=16, min_samples_split=2, n_estimators=148;, score=0.693 total time=   7.5s\n",
      "[CV 6/7] END bootstrap=True, max_depth=5, max_features=0.6, max_leaf_nodes=16, min_samples_split=2, n_estimators=148;, score=0.691 total time=   7.5s\n",
      "[CV 4/7] END bootstrap=True, max_depth=5, max_features=0.6, max_leaf_nodes=16, min_samples_split=2, n_estimators=148;, score=0.687 total time=   7.7s\n",
      "[CV 7/7] END bootstrap=True, max_depth=5, max_features=0.6, max_leaf_nodes=16, min_samples_split=2, n_estimators=148;, score=0.691 total time=   7.8s\n",
      "[CV 1/7] END bootstrap=True, max_depth=14, max_features=0.6, max_leaf_nodes=30, min_samples_split=2, n_estimators=31;, score=0.727 total time=   2.0s\n",
      "[CV 2/7] END bootstrap=True, max_depth=14, max_features=0.6, max_leaf_nodes=30, min_samples_split=2, n_estimators=31;, score=0.733 total time=   2.2s\n",
      "[CV 3/7] END bootstrap=True, max_depth=14, max_features=0.6, max_leaf_nodes=30, min_samples_split=2, n_estimators=31;, score=0.720 total time=   2.0s\n",
      "[CV 4/7] END bootstrap=True, max_depth=14, max_features=0.6, max_leaf_nodes=30, min_samples_split=2, n_estimators=31;, score=0.719 total time=   1.9s\n",
      "[CV 5/7] END bootstrap=True, max_depth=14, max_features=0.6, max_leaf_nodes=30, min_samples_split=2, n_estimators=31;, score=0.723 total time=   2.2s\n",
      "[CV 6/7] END bootstrap=True, max_depth=14, max_features=0.6, max_leaf_nodes=30, min_samples_split=2, n_estimators=31;, score=0.725 total time=   1.9s\n",
      "[CV 1/7] END bootstrap=False, max_depth=17, max_features=0.8999999999999999, max_leaf_nodes=41, min_samples_split=5, n_estimators=158;, score=0.742 total time=  21.7s\n"
     ]
    },
    {
     "name": "stderr",
     "output_type": "stream",
     "text": [
      "/Users/alexandersimakov/Documents/NeueFische/August/ds-random-forest/.venv/lib/python3.11/site-packages/sklearn/ensemble/_forest.py:424: FutureWarning: `max_features='auto'` has been deprecated in 1.1 and will be removed in 1.3. To keep the past behaviour, explicitly set `max_features='sqrt'` or remove this parameter as it is also the default value for RandomForestClassifiers and ExtraTreesClassifiers.\n",
      "  warn(\n"
     ]
    },
    {
     "name": "stdout",
     "output_type": "stream",
     "text": [
      "[CV 2/7] END bootstrap=False, max_depth=17, max_features=0.8999999999999999, max_leaf_nodes=41, min_samples_split=5, n_estimators=158;, score=0.743 total time=  21.3s\n",
      "[CV 7/7] END bootstrap=True, max_depth=14, max_features=0.6, max_leaf_nodes=30, min_samples_split=2, n_estimators=31;, score=0.727 total time=   2.1s\n"
     ]
    },
    {
     "name": "stderr",
     "output_type": "stream",
     "text": [
      "/Users/alexandersimakov/Documents/NeueFische/August/ds-random-forest/.venv/lib/python3.11/site-packages/sklearn/ensemble/_forest.py:424: FutureWarning: `max_features='auto'` has been deprecated in 1.1 and will be removed in 1.3. To keep the past behaviour, explicitly set `max_features='sqrt'` or remove this parameter as it is also the default value for RandomForestClassifiers and ExtraTreesClassifiers.\n",
      "  warn(\n",
      "/Users/alexandersimakov/Documents/NeueFische/August/ds-random-forest/.venv/lib/python3.11/site-packages/sklearn/ensemble/_forest.py:424: FutureWarning: `max_features='auto'` has been deprecated in 1.1 and will be removed in 1.3. To keep the past behaviour, explicitly set `max_features='sqrt'` or remove this parameter as it is also the default value for RandomForestClassifiers and ExtraTreesClassifiers.\n",
      "  warn(\n"
     ]
    },
    {
     "name": "stdout",
     "output_type": "stream",
     "text": [
      "[CV 4/7] END bootstrap=False, max_depth=17, max_features=0.8999999999999999, max_leaf_nodes=41, min_samples_split=5, n_estimators=158;, score=0.741 total time=  21.2s\n",
      "[CV 3/7] END bootstrap=False, max_depth=17, max_features=0.8999999999999999, max_leaf_nodes=41, min_samples_split=5, n_estimators=158;, score=0.739 total time=  21.4s\n"
     ]
    },
    {
     "name": "stderr",
     "output_type": "stream",
     "text": [
      "/Users/alexandersimakov/Documents/NeueFische/August/ds-random-forest/.venv/lib/python3.11/site-packages/sklearn/ensemble/_forest.py:424: FutureWarning: `max_features='auto'` has been deprecated in 1.1 and will be removed in 1.3. To keep the past behaviour, explicitly set `max_features='sqrt'` or remove this parameter as it is also the default value for RandomForestClassifiers and ExtraTreesClassifiers.\n",
      "  warn(\n",
      "/Users/alexandersimakov/Documents/NeueFische/August/ds-random-forest/.venv/lib/python3.11/site-packages/sklearn/ensemble/_forest.py:424: FutureWarning: `max_features='auto'` has been deprecated in 1.1 and will be removed in 1.3. To keep the past behaviour, explicitly set `max_features='sqrt'` or remove this parameter as it is also the default value for RandomForestClassifiers and ExtraTreesClassifiers.\n",
      "  warn(\n"
     ]
    },
    {
     "name": "stdout",
     "output_type": "stream",
     "text": [
      "[CV 5/7] END bootstrap=False, max_depth=17, max_features=0.8999999999999999, max_leaf_nodes=41, min_samples_split=5, n_estimators=158;, score=0.739 total time=  21.2s\n",
      "[CV 7/7] END bootstrap=False, max_depth=17, max_features=0.8999999999999999, max_leaf_nodes=41, min_samples_split=5, n_estimators=158;, score=0.742 total time=  21.2s\n"
     ]
    },
    {
     "name": "stderr",
     "output_type": "stream",
     "text": [
      "/Users/alexandersimakov/Documents/NeueFische/August/ds-random-forest/.venv/lib/python3.11/site-packages/sklearn/ensemble/_forest.py:424: FutureWarning: `max_features='auto'` has been deprecated in 1.1 and will be removed in 1.3. To keep the past behaviour, explicitly set `max_features='sqrt'` or remove this parameter as it is also the default value for RandomForestClassifiers and ExtraTreesClassifiers.\n",
      "  warn(\n",
      "/Users/alexandersimakov/Documents/NeueFische/August/ds-random-forest/.venv/lib/python3.11/site-packages/sklearn/ensemble/_forest.py:424: FutureWarning: `max_features='auto'` has been deprecated in 1.1 and will be removed in 1.3. To keep the past behaviour, explicitly set `max_features='sqrt'` or remove this parameter as it is also the default value for RandomForestClassifiers and ExtraTreesClassifiers.\n",
      "  warn(\n"
     ]
    },
    {
     "name": "stdout",
     "output_type": "stream",
     "text": [
      "[CV 1/7] END bootstrap=True, max_depth=10, max_features=auto, max_leaf_nodes=34, min_samples_split=2, n_estimators=122;, score=0.707 total time=   5.3s\n",
      "[CV 6/7] END bootstrap=False, max_depth=17, max_features=0.8999999999999999, max_leaf_nodes=41, min_samples_split=5, n_estimators=158;, score=0.741 total time=  21.4s\n",
      "[CV 3/7] END bootstrap=True, max_depth=10, max_features=auto, max_leaf_nodes=34, min_samples_split=2, n_estimators=122;, score=0.702 total time=   5.5s\n",
      "[CV 2/7] END bootstrap=True, max_depth=10, max_features=auto, max_leaf_nodes=34, min_samples_split=2, n_estimators=122;, score=0.707 total time=   5.7s\n",
      "[CV 5/7] END bootstrap=True, max_depth=10, max_features=auto, max_leaf_nodes=34, min_samples_split=2, n_estimators=122;, score=0.703 total time=   6.3s\n",
      "[CV 4/7] END bootstrap=True, max_depth=10, max_features=auto, max_leaf_nodes=34, min_samples_split=2, n_estimators=122;, score=0.704 total time=   6.5s\n",
      "[CV 6/7] END bootstrap=True, max_depth=10, max_features=auto, max_leaf_nodes=34, min_samples_split=2, n_estimators=122;, score=0.708 total time=   6.8s\n",
      "[CV 7/7] END bootstrap=True, max_depth=10, max_features=auto, max_leaf_nodes=34, min_samples_split=2, n_estimators=122;, score=0.701 total time=   6.7s\n",
      "[CV 1/7] END bootstrap=True, max_depth=12, max_features=0.7, max_leaf_nodes=40, min_samples_split=5, n_estimators=84;, score=0.726 total time=   7.3s\n",
      "[CV 2/7] END bootstrap=True, max_depth=12, max_features=0.7, max_leaf_nodes=40, min_samples_split=5, n_estimators=84;, score=0.732 total time=   7.2s\n",
      "[CV 4/7] END bootstrap=True, max_depth=12, max_features=0.7, max_leaf_nodes=40, min_samples_split=5, n_estimators=84;, score=0.720 total time=   7.0s\n",
      "[CV 3/7] END bootstrap=True, max_depth=12, max_features=0.7, max_leaf_nodes=40, min_samples_split=5, n_estimators=84;, score=0.724 total time=   7.1s\n",
      "[CV 6/7] END bootstrap=True, max_depth=12, max_features=0.7, max_leaf_nodes=40, min_samples_split=5, n_estimators=84;, score=0.729 total time=   6.4s\n",
      "[CV 5/7] END bootstrap=True, max_depth=12, max_features=0.7, max_leaf_nodes=40, min_samples_split=5, n_estimators=84;, score=0.723 total time=   7.0s\n",
      "[CV 7/7] END bootstrap=True, max_depth=12, max_features=0.7, max_leaf_nodes=40, min_samples_split=5, n_estimators=84;, score=0.727 total time=   6.4s\n",
      "[CV 1/7] END bootstrap=True, max_depth=11, max_features=sqrt, max_leaf_nodes=13, min_samples_split=5, n_estimators=36;, score=0.682 total time=   1.7s\n",
      "[CV 2/7] END bootstrap=True, max_depth=11, max_features=sqrt, max_leaf_nodes=13, min_samples_split=5, n_estimators=36;, score=0.685 total time=   1.4s\n",
      "[CV 3/7] END bootstrap=True, max_depth=11, max_features=sqrt, max_leaf_nodes=13, min_samples_split=5, n_estimators=36;, score=0.683 total time=   1.4s\n",
      "[CV 4/7] END bootstrap=True, max_depth=11, max_features=sqrt, max_leaf_nodes=13, min_samples_split=5, n_estimators=36;, score=0.685 total time=   1.4s\n",
      "[CV 1/7] END bootstrap=False, max_depth=18, max_features=None, max_leaf_nodes=16, min_samples_split=5, n_estimators=89;, score=0.683 total time=  12.4s\n",
      "[CV 2/7] END bootstrap=False, max_depth=18, max_features=None, max_leaf_nodes=16, min_samples_split=5, n_estimators=89;, score=0.698 total time=  12.4s\n",
      "[CV 3/7] END bootstrap=False, max_depth=18, max_features=None, max_leaf_nodes=16, min_samples_split=5, n_estimators=89;, score=0.683 total time=  12.7s\n",
      "[CV 5/7] END bootstrap=False, max_depth=18, max_features=None, max_leaf_nodes=16, min_samples_split=5, n_estimators=89;, score=0.689 total time=  12.6s\n",
      "[CV 4/7] END bootstrap=False, max_depth=18, max_features=None, max_leaf_nodes=16, min_samples_split=5, n_estimators=89;, score=0.683 total time=  12.7s\n",
      "[CV 5/7] END bootstrap=True, max_depth=11, max_features=sqrt, max_leaf_nodes=13, min_samples_split=5, n_estimators=36;, score=0.688 total time=   1.6s\n",
      "[CV 6/7] END bootstrap=True, max_depth=11, max_features=sqrt, max_leaf_nodes=13, min_samples_split=5, n_estimators=36;, score=0.686 total time=   1.6s\n",
      "[CV 7/7] END bootstrap=True, max_depth=11, max_features=sqrt, max_leaf_nodes=13, min_samples_split=5, n_estimators=36;, score=0.685 total time=   1.6s\n",
      "[CV 6/7] END bootstrap=False, max_depth=18, max_features=None, max_leaf_nodes=16, min_samples_split=5, n_estimators=89;, score=0.684 total time=  12.8s\n",
      "[CV 7/7] END bootstrap=False, max_depth=18, max_features=None, max_leaf_nodes=16, min_samples_split=5, n_estimators=89;, score=0.685 total time=  12.7s\n",
      "[CV 1/7] END bootstrap=True, max_depth=3, max_features=0.8999999999999999, max_leaf_nodes=49, min_samples_split=5, n_estimators=159;, score=0.660 total time=   7.7s\n",
      "[CV 2/7] END bootstrap=True, max_depth=3, max_features=0.8999999999999999, max_leaf_nodes=49, min_samples_split=5, n_estimators=159;, score=0.664 total time=   7.5s\n",
      "[CV 3/7] END bootstrap=True, max_depth=3, max_features=0.8999999999999999, max_leaf_nodes=49, min_samples_split=5, n_estimators=159;, score=0.659 total time=   7.6s\n",
      "[CV 4/7] END bootstrap=True, max_depth=3, max_features=0.8999999999999999, max_leaf_nodes=49, min_samples_split=5, n_estimators=159;, score=0.662 total time=   7.6s\n",
      "[CV 5/7] END bootstrap=True, max_depth=3, max_features=0.8999999999999999, max_leaf_nodes=49, min_samples_split=5, n_estimators=159;, score=0.662 total time=   7.9s\n",
      "[CV 6/7] END bootstrap=True, max_depth=3, max_features=0.8999999999999999, max_leaf_nodes=49, min_samples_split=5, n_estimators=159;, score=0.660 total time=   7.6s\n",
      "[CV 1/7] END bootstrap=True, max_depth=19, max_features=sqrt, max_leaf_nodes=34, min_samples_split=5, n_estimators=139;, score=0.709 total time=   6.4s\n",
      "[CV 7/7] END bootstrap=True, max_depth=3, max_features=0.8999999999999999, max_leaf_nodes=49, min_samples_split=5, n_estimators=159;, score=0.659 total time=   7.4s\n",
      "[CV 2/7] END bootstrap=True, max_depth=19, max_features=sqrt, max_leaf_nodes=34, min_samples_split=5, n_estimators=139;, score=0.709 total time=   6.5s\n",
      "[CV 3/7] END bootstrap=True, max_depth=19, max_features=sqrt, max_leaf_nodes=34, min_samples_split=5, n_estimators=139;, score=0.703 total time=   6.5s\n",
      "[CV 5/7] END bootstrap=True, max_depth=19, max_features=sqrt, max_leaf_nodes=34, min_samples_split=5, n_estimators=139;, score=0.704 total time=   6.3s\n",
      "[CV 4/7] END bootstrap=True, max_depth=19, max_features=sqrt, max_leaf_nodes=34, min_samples_split=5, n_estimators=139;, score=0.704 total time=   6.5s\n",
      "[CV 6/7] END bootstrap=True, max_depth=19, max_features=sqrt, max_leaf_nodes=34, min_samples_split=5, n_estimators=139;, score=0.712 total time=   6.3s\n",
      "[CV 7/7] END bootstrap=True, max_depth=19, max_features=sqrt, max_leaf_nodes=34, min_samples_split=5, n_estimators=139;, score=0.704 total time=   6.5s\n",
      "[CV 1/7] END bootstrap=False, max_depth=4, max_features=0.7999999999999999, max_leaf_nodes=35, min_samples_split=10, n_estimators=109;, score=0.676 total time=   7.0s\n",
      "[CV 2/7] END bootstrap=False, max_depth=4, max_features=0.7999999999999999, max_leaf_nodes=35, min_samples_split=10, n_estimators=109;, score=0.675 total time=   7.0s\n",
      "[CV 1/7] END bootstrap=False, max_depth=14, max_features=0.6, max_leaf_nodes=35, min_samples_split=10, n_estimators=38;, score=0.727 total time=   3.3s\n",
      "[CV 2/7] END bootstrap=False, max_depth=14, max_features=0.6, max_leaf_nodes=35, min_samples_split=10, n_estimators=38;, score=0.732 total time=   3.4s\n",
      "[CV 3/7] END bootstrap=False, max_depth=4, max_features=0.7999999999999999, max_leaf_nodes=35, min_samples_split=10, n_estimators=109;, score=0.669 total time=   6.8s\n",
      "[CV 4/7] END bootstrap=False, max_depth=4, max_features=0.7999999999999999, max_leaf_nodes=35, min_samples_split=10, n_estimators=109;, score=0.671 total time=   6.7s\n",
      "[CV 5/7] END bootstrap=False, max_depth=4, max_features=0.7999999999999999, max_leaf_nodes=35, min_samples_split=10, n_estimators=109;, score=0.678 total time=   6.7s\n",
      "[CV 3/7] END bootstrap=False, max_depth=14, max_features=0.6, max_leaf_nodes=35, min_samples_split=10, n_estimators=38;, score=0.724 total time=   3.4s\n",
      "[CV 6/7] END bootstrap=False, max_depth=4, max_features=0.7999999999999999, max_leaf_nodes=35, min_samples_split=10, n_estimators=109;, score=0.670 total time=   6.8s\n",
      "[CV 7/7] END bootstrap=False, max_depth=4, max_features=0.7999999999999999, max_leaf_nodes=35, min_samples_split=10, n_estimators=109;, score=0.670 total time=   6.6s\n",
      "[CV 4/7] END bootstrap=False, max_depth=14, max_features=0.6, max_leaf_nodes=35, min_samples_split=10, n_estimators=38;, score=0.724 total time=   3.4s\n",
      "[CV 5/7] END bootstrap=False, max_depth=14, max_features=0.6, max_leaf_nodes=35, min_samples_split=10, n_estimators=38;, score=0.723 total time=   3.3s\n",
      "[CV 6/7] END bootstrap=False, max_depth=14, max_features=0.6, max_leaf_nodes=35, min_samples_split=10, n_estimators=38;, score=0.728 total time=   3.6s\n",
      "[CV 7/7] END bootstrap=False, max_depth=14, max_features=0.6, max_leaf_nodes=35, min_samples_split=10, n_estimators=38;, score=0.726 total time=   3.9s\n",
      "[CV 1/7] END bootstrap=True, max_depth=20, max_features=0.7, max_leaf_nodes=32, min_samples_split=10, n_estimators=138;, score=0.726 total time=  10.6s\n",
      "[CV 2/7] END bootstrap=True, max_depth=20, max_features=0.7, max_leaf_nodes=32, min_samples_split=10, n_estimators=138;, score=0.732 total time=  10.6s\n",
      "[CV 4/7] END bootstrap=True, max_depth=20, max_features=0.7, max_leaf_nodes=32, min_samples_split=10, n_estimators=138;, score=0.719 total time=  10.5s\n",
      "[CV 3/7] END bootstrap=True, max_depth=20, max_features=0.7, max_leaf_nodes=32, min_samples_split=10, n_estimators=138;, score=0.721 total time=  10.6s\n",
      "[CV 5/7] END bootstrap=True, max_depth=20, max_features=0.7, max_leaf_nodes=32, min_samples_split=10, n_estimators=138;, score=0.723 total time=  11.2s\n",
      "[CV 6/7] END bootstrap=True, max_depth=20, max_features=0.7, max_leaf_nodes=32, min_samples_split=10, n_estimators=138;, score=0.728 total time=  10.8s\n",
      "[CV 1/7] END bootstrap=True, max_depth=None, max_features=0.6, max_leaf_nodes=12, min_samples_split=2, n_estimators=167;, score=0.705 total time=  10.5s\n",
      "[CV 7/7] END bootstrap=True, max_depth=20, max_features=0.7, max_leaf_nodes=32, min_samples_split=10, n_estimators=138;, score=0.725 total time=  11.3s\n",
      "[CV 1/7] END bootstrap=True, max_depth=6, max_features=0.6, max_leaf_nodes=13, min_samples_split=5, n_estimators=106;, score=0.702 total time=   6.3s\n",
      "[CV 2/7] END bootstrap=True, max_depth=6, max_features=0.6, max_leaf_nodes=13, min_samples_split=5, n_estimators=106;, score=0.699 total time=   6.2s\n",
      "[CV 2/7] END bootstrap=True, max_depth=None, max_features=0.6, max_leaf_nodes=12, min_samples_split=2, n_estimators=167;, score=0.705 total time=  10.7s\n",
      "[CV 4/7] END bootstrap=True, max_depth=None, max_features=0.6, max_leaf_nodes=12, min_samples_split=2, n_estimators=167;, score=0.694 total time=  10.6s\n",
      "[CV 5/7] END bootstrap=True, max_depth=None, max_features=0.6, max_leaf_nodes=12, min_samples_split=2, n_estimators=167;, score=0.705 total time=  10.7s\n",
      "[CV 3/7] END bootstrap=True, max_depth=None, max_features=0.6, max_leaf_nodes=12, min_samples_split=2, n_estimators=167;, score=0.701 total time=  10.9s\n",
      "[CV 6/7] END bootstrap=True, max_depth=None, max_features=0.6, max_leaf_nodes=12, min_samples_split=2, n_estimators=167;, score=0.709 total time=  10.7s\n",
      "[CV 7/7] END bootstrap=True, max_depth=None, max_features=0.6, max_leaf_nodes=12, min_samples_split=2, n_estimators=167;, score=0.711 total time=  10.7s\n",
      "[CV 3/7] END bootstrap=True, max_depth=6, max_features=0.6, max_leaf_nodes=13, min_samples_split=5, n_estimators=106;, score=0.701 total time=   5.8s\n",
      "[CV 4/7] END bootstrap=True, max_depth=6, max_features=0.6, max_leaf_nodes=13, min_samples_split=5, n_estimators=106;, score=0.695 total time=   5.7s\n",
      "[CV 1/7] END bootstrap=False, max_depth=4, max_features=0.7, max_leaf_nodes=38, min_samples_split=2, n_estimators=97;, score=0.676 total time=   5.4s\n",
      "[CV 5/7] END bootstrap=True, max_depth=6, max_features=0.6, max_leaf_nodes=13, min_samples_split=5, n_estimators=106;, score=0.703 total time=   5.6s\n",
      "[CV 7/7] END bootstrap=True, max_depth=6, max_features=0.6, max_leaf_nodes=13, min_samples_split=5, n_estimators=106;, score=0.699 total time=   5.7s\n",
      "[CV 6/7] END bootstrap=True, max_depth=6, max_features=0.6, max_leaf_nodes=13, min_samples_split=5, n_estimators=106;, score=0.700 total time=   5.8s\n",
      "[CV 2/7] END bootstrap=False, max_depth=4, max_features=0.7, max_leaf_nodes=38, min_samples_split=2, n_estimators=97;, score=0.679 total time=   5.2s\n",
      "[CV 3/7] END bootstrap=False, max_depth=4, max_features=0.7, max_leaf_nodes=38, min_samples_split=2, n_estimators=97;, score=0.674 total time=   5.2s\n",
      "[CV 4/7] END bootstrap=False, max_depth=4, max_features=0.7, max_leaf_nodes=38, min_samples_split=2, n_estimators=97;, score=0.672 total time=   5.3s\n",
      "[CV 5/7] END bootstrap=False, max_depth=4, max_features=0.7, max_leaf_nodes=38, min_samples_split=2, n_estimators=97;, score=0.679 total time=   5.3s\n",
      "[CV 6/7] END bootstrap=False, max_depth=4, max_features=0.7, max_leaf_nodes=38, min_samples_split=2, n_estimators=97;, score=0.674 total time=   5.3s\n",
      "[CV 7/7] END bootstrap=False, max_depth=4, max_features=0.7, max_leaf_nodes=38, min_samples_split=2, n_estimators=97;, score=0.673 total time=   5.3s\n",
      "[CV 1/7] END bootstrap=False, max_depth=19, max_features=0.8999999999999999, max_leaf_nodes=12, min_samples_split=10, n_estimators=13;, score=0.680 total time=   1.3s\n",
      "[CV 1/7] END bootstrap=False, max_depth=3, max_features=0.7999999999999999, max_leaf_nodes=49, min_samples_split=10, n_estimators=146;, score=0.660 total time=   7.3s\n",
      "[CV 2/7] END bootstrap=False, max_depth=3, max_features=0.7999999999999999, max_leaf_nodes=49, min_samples_split=10, n_estimators=146;, score=0.663 total time=   7.4s\n",
      "[CV 2/7] END bootstrap=False, max_depth=19, max_features=0.8999999999999999, max_leaf_nodes=12, min_samples_split=10, n_estimators=13;, score=0.691 total time=   1.4s\n",
      "[CV 3/7] END bootstrap=False, max_depth=3, max_features=0.7999999999999999, max_leaf_nodes=49, min_samples_split=10, n_estimators=146;, score=0.658 total time=   7.4s\n",
      "[CV 3/7] END bootstrap=False, max_depth=19, max_features=0.8999999999999999, max_leaf_nodes=12, min_samples_split=10, n_estimators=13;, score=0.695 total time=   1.5s\n",
      "[CV 4/7] END bootstrap=False, max_depth=19, max_features=0.8999999999999999, max_leaf_nodes=12, min_samples_split=10, n_estimators=13;, score=0.677 total time=   1.3s\n",
      "[CV 4/7] END bootstrap=False, max_depth=3, max_features=0.7999999999999999, max_leaf_nodes=49, min_samples_split=10, n_estimators=146;, score=0.662 total time=   7.1s\n",
      "[CV 5/7] END bootstrap=False, max_depth=19, max_features=0.8999999999999999, max_leaf_nodes=12, min_samples_split=10, n_estimators=13;, score=0.696 total time=   1.3s\n",
      "[CV 6/7] END bootstrap=False, max_depth=19, max_features=0.8999999999999999, max_leaf_nodes=12, min_samples_split=10, n_estimators=13;, score=0.678 total time=   1.3s\n",
      "[CV 7/7] END bootstrap=False, max_depth=19, max_features=0.8999999999999999, max_leaf_nodes=12, min_samples_split=10, n_estimators=13;, score=0.681 total time=   1.3s\n",
      "[CV 5/7] END bootstrap=False, max_depth=3, max_features=0.7999999999999999, max_leaf_nodes=49, min_samples_split=10, n_estimators=146;, score=0.662 total time=   7.1s\n",
      "[CV 6/7] END bootstrap=False, max_depth=3, max_features=0.7999999999999999, max_leaf_nodes=49, min_samples_split=10, n_estimators=146;, score=0.659 total time=   7.2s\n",
      "[CV 7/7] END bootstrap=False, max_depth=3, max_features=0.7999999999999999, max_leaf_nodes=49, min_samples_split=10, n_estimators=146;, score=0.659 total time=   7.3s\n"
     ]
    },
    {
     "name": "stderr",
     "output_type": "stream",
     "text": [
      "/Users/alexandersimakov/Documents/NeueFische/August/ds-random-forest/.venv/lib/python3.11/site-packages/sklearn/ensemble/_forest.py:424: FutureWarning: `max_features='auto'` has been deprecated in 1.1 and will be removed in 1.3. To keep the past behaviour, explicitly set `max_features='sqrt'` or remove this parameter as it is also the default value for RandomForestClassifiers and ExtraTreesClassifiers.\n",
      "  warn(\n"
     ]
    },
    {
     "name": "stdout",
     "output_type": "stream",
     "text": [
      "[CV 1/7] END bootstrap=True, max_depth=None, max_features=sqrt, max_leaf_nodes=30, min_samples_split=2, n_estimators=155;, score=0.705 total time=   6.9s\n"
     ]
    },
    {
     "name": "stderr",
     "output_type": "stream",
     "text": [
      "/Users/alexandersimakov/Documents/NeueFische/August/ds-random-forest/.venv/lib/python3.11/site-packages/sklearn/ensemble/_forest.py:424: FutureWarning: `max_features='auto'` has been deprecated in 1.1 and will be removed in 1.3. To keep the past behaviour, explicitly set `max_features='sqrt'` or remove this parameter as it is also the default value for RandomForestClassifiers and ExtraTreesClassifiers.\n",
      "  warn(\n"
     ]
    },
    {
     "name": "stdout",
     "output_type": "stream",
     "text": [
      "[CV 2/7] END bootstrap=True, max_depth=None, max_features=sqrt, max_leaf_nodes=30, min_samples_split=2, n_estimators=155;, score=0.707 total time=   6.7s\n"
     ]
    },
    {
     "name": "stderr",
     "output_type": "stream",
     "text": [
      "/Users/alexandersimakov/Documents/NeueFische/August/ds-random-forest/.venv/lib/python3.11/site-packages/sklearn/ensemble/_forest.py:424: FutureWarning: `max_features='auto'` has been deprecated in 1.1 and will be removed in 1.3. To keep the past behaviour, explicitly set `max_features='sqrt'` or remove this parameter as it is also the default value for RandomForestClassifiers and ExtraTreesClassifiers.\n",
      "  warn(\n"
     ]
    },
    {
     "name": "stdout",
     "output_type": "stream",
     "text": [
      "[CV 3/7] END bootstrap=True, max_depth=None, max_features=sqrt, max_leaf_nodes=30, min_samples_split=2, n_estimators=155;, score=0.703 total time=   6.9s\n"
     ]
    },
    {
     "name": "stderr",
     "output_type": "stream",
     "text": [
      "/Users/alexandersimakov/Documents/NeueFische/August/ds-random-forest/.venv/lib/python3.11/site-packages/sklearn/ensemble/_forest.py:424: FutureWarning: `max_features='auto'` has been deprecated in 1.1 and will be removed in 1.3. To keep the past behaviour, explicitly set `max_features='sqrt'` or remove this parameter as it is also the default value for RandomForestClassifiers and ExtraTreesClassifiers.\n",
      "  warn(\n"
     ]
    },
    {
     "name": "stdout",
     "output_type": "stream",
     "text": [
      "[CV 4/7] END bootstrap=True, max_depth=None, max_features=sqrt, max_leaf_nodes=30, min_samples_split=2, n_estimators=155;, score=0.702 total time=   6.9s\n"
     ]
    },
    {
     "name": "stderr",
     "output_type": "stream",
     "text": [
      "/Users/alexandersimakov/Documents/NeueFische/August/ds-random-forest/.venv/lib/python3.11/site-packages/sklearn/ensemble/_forest.py:424: FutureWarning: `max_features='auto'` has been deprecated in 1.1 and will be removed in 1.3. To keep the past behaviour, explicitly set `max_features='sqrt'` or remove this parameter as it is also the default value for RandomForestClassifiers and ExtraTreesClassifiers.\n",
      "  warn(\n"
     ]
    },
    {
     "name": "stdout",
     "output_type": "stream",
     "text": [
      "[CV 5/7] END bootstrap=True, max_depth=None, max_features=sqrt, max_leaf_nodes=30, min_samples_split=2, n_estimators=155;, score=0.703 total time=   6.9s\n"
     ]
    },
    {
     "name": "stderr",
     "output_type": "stream",
     "text": [
      "/Users/alexandersimakov/Documents/NeueFische/August/ds-random-forest/.venv/lib/python3.11/site-packages/sklearn/ensemble/_forest.py:424: FutureWarning: `max_features='auto'` has been deprecated in 1.1 and will be removed in 1.3. To keep the past behaviour, explicitly set `max_features='sqrt'` or remove this parameter as it is also the default value for RandomForestClassifiers and ExtraTreesClassifiers.\n",
      "  warn(\n"
     ]
    },
    {
     "name": "stdout",
     "output_type": "stream",
     "text": [
      "[CV 6/7] END bootstrap=True, max_depth=None, max_features=sqrt, max_leaf_nodes=30, min_samples_split=2, n_estimators=155;, score=0.710 total time=   7.3s\n"
     ]
    },
    {
     "name": "stderr",
     "output_type": "stream",
     "text": [
      "/Users/alexandersimakov/Documents/NeueFische/August/ds-random-forest/.venv/lib/python3.11/site-packages/sklearn/ensemble/_forest.py:424: FutureWarning: `max_features='auto'` has been deprecated in 1.1 and will be removed in 1.3. To keep the past behaviour, explicitly set `max_features='sqrt'` or remove this parameter as it is also the default value for RandomForestClassifiers and ExtraTreesClassifiers.\n",
      "  warn(\n"
     ]
    },
    {
     "name": "stdout",
     "output_type": "stream",
     "text": [
      "[CV 7/7] END bootstrap=True, max_depth=None, max_features=sqrt, max_leaf_nodes=30, min_samples_split=2, n_estimators=155;, score=0.701 total time=   7.2s\n",
      "[CV 1/7] END bootstrap=True, max_depth=18, max_features=auto, max_leaf_nodes=43, min_samples_split=10, n_estimators=157;, score=0.715 total time=   7.7s\n",
      "[CV 2/7] END bootstrap=True, max_depth=18, max_features=auto, max_leaf_nodes=43, min_samples_split=10, n_estimators=157;, score=0.715 total time=   7.6s\n",
      "[CV 3/7] END bootstrap=True, max_depth=18, max_features=auto, max_leaf_nodes=43, min_samples_split=10, n_estimators=157;, score=0.708 total time=   7.6s\n",
      "[CV 4/7] END bootstrap=True, max_depth=18, max_features=auto, max_leaf_nodes=43, min_samples_split=10, n_estimators=157;, score=0.710 total time=   7.5s\n",
      "[CV 5/7] END bootstrap=True, max_depth=18, max_features=auto, max_leaf_nodes=43, min_samples_split=10, n_estimators=157;, score=0.710 total time=   7.4s\n",
      "[CV 6/7] END bootstrap=True, max_depth=18, max_features=auto, max_leaf_nodes=43, min_samples_split=10, n_estimators=157;, score=0.713 total time=   7.6s\n",
      "[CV 7/7] END bootstrap=True, max_depth=18, max_features=auto, max_leaf_nodes=43, min_samples_split=10, n_estimators=157;, score=0.710 total time=   7.5s\n",
      "[CV 1/7] END bootstrap=False, max_depth=4, max_features=0.7999999999999999, max_leaf_nodes=11, min_samples_split=5, n_estimators=148;, score=0.675 total time=   9.4s\n",
      "[CV 2/7] END bootstrap=False, max_depth=4, max_features=0.7999999999999999, max_leaf_nodes=11, min_samples_split=5, n_estimators=148;, score=0.674 total time=   9.1s\n",
      "[CV 3/7] END bootstrap=False, max_depth=4, max_features=0.7999999999999999, max_leaf_nodes=11, min_samples_split=5, n_estimators=148;, score=0.679 total time=   8.9s\n",
      "[CV 4/7] END bootstrap=False, max_depth=4, max_features=0.7999999999999999, max_leaf_nodes=11, min_samples_split=5, n_estimators=148;, score=0.670 total time=   8.9s\n",
      "[CV 5/7] END bootstrap=False, max_depth=4, max_features=0.7999999999999999, max_leaf_nodes=11, min_samples_split=5, n_estimators=148;, score=0.677 total time=   9.1s\n",
      "[CV 6/7] END bootstrap=False, max_depth=4, max_features=0.7999999999999999, max_leaf_nodes=11, min_samples_split=5, n_estimators=148;, score=0.669 total time=   8.9s\n",
      "[CV 7/7] END bootstrap=False, max_depth=4, max_features=0.7999999999999999, max_leaf_nodes=11, min_samples_split=5, n_estimators=148;, score=0.670 total time=   9.0s\n",
      "[CV 1/7] END bootstrap=False, max_depth=4, max_features=0.7, max_leaf_nodes=29, min_samples_split=10, n_estimators=159;, score=0.674 total time=   8.2s\n",
      "[CV 2/7] END bootstrap=False, max_depth=4, max_features=0.7, max_leaf_nodes=29, min_samples_split=10, n_estimators=159;, score=0.676 total time=   8.3s\n",
      "[CV 3/7] END bootstrap=False, max_depth=4, max_features=0.7, max_leaf_nodes=29, min_samples_split=10, n_estimators=159;, score=0.670 total time=   8.4s\n",
      "[CV 1/7] END bootstrap=False, max_depth=13, max_features=0.5, max_leaf_nodes=22, min_samples_split=2, n_estimators=96;, score=0.716 total time=   6.4s\n",
      "[CV 4/7] END bootstrap=False, max_depth=4, max_features=0.7, max_leaf_nodes=29, min_samples_split=10, n_estimators=159;, score=0.672 total time=   8.5s\n",
      "[CV 5/7] END bootstrap=False, max_depth=4, max_features=0.7, max_leaf_nodes=29, min_samples_split=10, n_estimators=159;, score=0.678 total time=   8.4s\n",
      "[CV 6/7] END bootstrap=False, max_depth=4, max_features=0.7, max_leaf_nodes=29, min_samples_split=10, n_estimators=159;, score=0.672 total time=   8.4s\n",
      "[CV 2/7] END bootstrap=False, max_depth=13, max_features=0.5, max_leaf_nodes=22, min_samples_split=2, n_estimators=96;, score=0.722 total time=   6.5s\n",
      "[CV 7/7] END bootstrap=False, max_depth=4, max_features=0.7, max_leaf_nodes=29, min_samples_split=10, n_estimators=159;, score=0.676 total time=   8.6s\n",
      "[CV 3/7] END bootstrap=False, max_depth=13, max_features=0.5, max_leaf_nodes=22, min_samples_split=2, n_estimators=96;, score=0.711 total time=   6.0s\n",
      "[CV 4/7] END bootstrap=False, max_depth=13, max_features=0.5, max_leaf_nodes=22, min_samples_split=2, n_estimators=96;, score=0.710 total time=   5.9s\n",
      "[CV 5/7] END bootstrap=False, max_depth=13, max_features=0.5, max_leaf_nodes=22, min_samples_split=2, n_estimators=96;, score=0.711 total time=   5.1s\n",
      "[CV 6/7] END bootstrap=False, max_depth=13, max_features=0.5, max_leaf_nodes=22, min_samples_split=2, n_estimators=96;, score=0.718 total time=   4.8s\n",
      "[CV 7/7] END bootstrap=False, max_depth=13, max_features=0.5, max_leaf_nodes=22, min_samples_split=2, n_estimators=96;, score=0.711 total time=   4.8s\n"
     ]
    },
    {
     "data": {
      "text/html": [
       "<style>#sk-container-id-3 {color: black;background-color: white;}#sk-container-id-3 pre{padding: 0;}#sk-container-id-3 div.sk-toggleable {background-color: white;}#sk-container-id-3 label.sk-toggleable__label {cursor: pointer;display: block;width: 100%;margin-bottom: 0;padding: 0.3em;box-sizing: border-box;text-align: center;}#sk-container-id-3 label.sk-toggleable__label-arrow:before {content: \"▸\";float: left;margin-right: 0.25em;color: #696969;}#sk-container-id-3 label.sk-toggleable__label-arrow:hover:before {color: black;}#sk-container-id-3 div.sk-estimator:hover label.sk-toggleable__label-arrow:before {color: black;}#sk-container-id-3 div.sk-toggleable__content {max-height: 0;max-width: 0;overflow: hidden;text-align: left;background-color: #f0f8ff;}#sk-container-id-3 div.sk-toggleable__content pre {margin: 0.2em;color: black;border-radius: 0.25em;background-color: #f0f8ff;}#sk-container-id-3 input.sk-toggleable__control:checked~div.sk-toggleable__content {max-height: 200px;max-width: 100%;overflow: auto;}#sk-container-id-3 input.sk-toggleable__control:checked~label.sk-toggleable__label-arrow:before {content: \"▾\";}#sk-container-id-3 div.sk-estimator input.sk-toggleable__control:checked~label.sk-toggleable__label {background-color: #d4ebff;}#sk-container-id-3 div.sk-label input.sk-toggleable__control:checked~label.sk-toggleable__label {background-color: #d4ebff;}#sk-container-id-3 input.sk-hidden--visually {border: 0;clip: rect(1px 1px 1px 1px);clip: rect(1px, 1px, 1px, 1px);height: 1px;margin: -1px;overflow: hidden;padding: 0;position: absolute;width: 1px;}#sk-container-id-3 div.sk-estimator {font-family: monospace;background-color: #f0f8ff;border: 1px dotted black;border-radius: 0.25em;box-sizing: border-box;margin-bottom: 0.5em;}#sk-container-id-3 div.sk-estimator:hover {background-color: #d4ebff;}#sk-container-id-3 div.sk-parallel-item::after {content: \"\";width: 100%;border-bottom: 1px solid gray;flex-grow: 1;}#sk-container-id-3 div.sk-label:hover label.sk-toggleable__label {background-color: #d4ebff;}#sk-container-id-3 div.sk-serial::before {content: \"\";position: absolute;border-left: 1px solid gray;box-sizing: border-box;top: 0;bottom: 0;left: 50%;z-index: 0;}#sk-container-id-3 div.sk-serial {display: flex;flex-direction: column;align-items: center;background-color: white;padding-right: 0.2em;padding-left: 0.2em;position: relative;}#sk-container-id-3 div.sk-item {position: relative;z-index: 1;}#sk-container-id-3 div.sk-parallel {display: flex;align-items: stretch;justify-content: center;background-color: white;position: relative;}#sk-container-id-3 div.sk-item::before, #sk-container-id-3 div.sk-parallel-item::before {content: \"\";position: absolute;border-left: 1px solid gray;box-sizing: border-box;top: 0;bottom: 0;left: 50%;z-index: -1;}#sk-container-id-3 div.sk-parallel-item {display: flex;flex-direction: column;z-index: 1;position: relative;background-color: white;}#sk-container-id-3 div.sk-parallel-item:first-child::after {align-self: flex-end;width: 50%;}#sk-container-id-3 div.sk-parallel-item:last-child::after {align-self: flex-start;width: 50%;}#sk-container-id-3 div.sk-parallel-item:only-child::after {width: 0;}#sk-container-id-3 div.sk-dashed-wrapped {border: 1px dashed gray;margin: 0 0.4em 0.5em 0.4em;box-sizing: border-box;padding-bottom: 0.4em;background-color: white;}#sk-container-id-3 div.sk-label label {font-family: monospace;font-weight: bold;display: inline-block;line-height: 1.2em;}#sk-container-id-3 div.sk-label-container {text-align: center;}#sk-container-id-3 div.sk-container {/* jupyter's `normalize.less` sets `[hidden] { display: none; }` but bootstrap.min.css set `[hidden] { display: none !important; }` so we also need the `!important` here to be able to override the default hidden behavior on the sphinx rendered scikit-learn.org. See: https://github.com/scikit-learn/scikit-learn/issues/21755 */display: inline-block !important;position: relative;}#sk-container-id-3 div.sk-text-repr-fallback {display: none;}</style><div id=\"sk-container-id-3\" class=\"sk-top-container\"><div class=\"sk-text-repr-fallback\"><pre>RandomizedSearchCV(cv=7, estimator=RandomForestClassifier(random_state=50),\n",
       "                   n_iter=25, n_jobs=-1,\n",
       "                   param_distributions={&#x27;bootstrap&#x27;: [True, False],\n",
       "                                        &#x27;max_depth&#x27;: [None, 3, 4, 5, 6, 7, 8, 9,\n",
       "                                                      10, 11, 12, 13, 14, 15,\n",
       "                                                      16, 17, 18, 19, 20],\n",
       "                                        &#x27;max_features&#x27;: [&#x27;auto&#x27;, &#x27;sqrt&#x27;, None,\n",
       "                                                         0.5, 0.6, 0.7,\n",
       "                                                         0.7999999999999999,\n",
       "                                                         0.8999999999999999],\n",
       "                                        &#x27;max_leaf_nodes&#x27;: [None, 10, 11, 12, 13,\n",
       "                                                           14, 15, 16, 17, 18,\n",
       "                                                           19, 20, 21...\n",
       "       114, 115, 116, 117, 118, 119, 120, 121, 122, 123, 124, 125, 126,\n",
       "       127, 128, 129, 130, 131, 132, 133, 134, 135, 136, 137, 138, 139,\n",
       "       140, 141, 142, 143, 144, 145, 146, 147, 148, 149, 150, 151, 152,\n",
       "       153, 154, 155, 156, 157, 158, 159, 160, 161, 162, 163, 164, 165,\n",
       "       166, 167, 168, 169, 170, 171, 172, 173, 174, 175, 176, 177, 178,\n",
       "       179, 180, 181, 182, 183, 184, 185, 186, 187, 188, 189, 190, 191,\n",
       "       192, 193, 194, 195, 196, 197, 198, 199, 200])},\n",
       "                   random_state=50, scoring=&#x27;accuracy&#x27;, verbose=5)</pre><b>In a Jupyter environment, please rerun this cell to show the HTML representation or trust the notebook. <br />On GitHub, the HTML representation is unable to render, please try loading this page with nbviewer.org.</b></div><div class=\"sk-container\" hidden><div class=\"sk-item sk-dashed-wrapped\"><div class=\"sk-label-container\"><div class=\"sk-label sk-toggleable\"><input class=\"sk-toggleable__control sk-hidden--visually\" id=\"sk-estimator-id-7\" type=\"checkbox\" ><label for=\"sk-estimator-id-7\" class=\"sk-toggleable__label sk-toggleable__label-arrow\">RandomizedSearchCV</label><div class=\"sk-toggleable__content\"><pre>RandomizedSearchCV(cv=7, estimator=RandomForestClassifier(random_state=50),\n",
       "                   n_iter=25, n_jobs=-1,\n",
       "                   param_distributions={&#x27;bootstrap&#x27;: [True, False],\n",
       "                                        &#x27;max_depth&#x27;: [None, 3, 4, 5, 6, 7, 8, 9,\n",
       "                                                      10, 11, 12, 13, 14, 15,\n",
       "                                                      16, 17, 18, 19, 20],\n",
       "                                        &#x27;max_features&#x27;: [&#x27;auto&#x27;, &#x27;sqrt&#x27;, None,\n",
       "                                                         0.5, 0.6, 0.7,\n",
       "                                                         0.7999999999999999,\n",
       "                                                         0.8999999999999999],\n",
       "                                        &#x27;max_leaf_nodes&#x27;: [None, 10, 11, 12, 13,\n",
       "                                                           14, 15, 16, 17, 18,\n",
       "                                                           19, 20, 21...\n",
       "       114, 115, 116, 117, 118, 119, 120, 121, 122, 123, 124, 125, 126,\n",
       "       127, 128, 129, 130, 131, 132, 133, 134, 135, 136, 137, 138, 139,\n",
       "       140, 141, 142, 143, 144, 145, 146, 147, 148, 149, 150, 151, 152,\n",
       "       153, 154, 155, 156, 157, 158, 159, 160, 161, 162, 163, 164, 165,\n",
       "       166, 167, 168, 169, 170, 171, 172, 173, 174, 175, 176, 177, 178,\n",
       "       179, 180, 181, 182, 183, 184, 185, 186, 187, 188, 189, 190, 191,\n",
       "       192, 193, 194, 195, 196, 197, 198, 199, 200])},\n",
       "                   random_state=50, scoring=&#x27;accuracy&#x27;, verbose=5)</pre></div></div></div><div class=\"sk-parallel\"><div class=\"sk-parallel-item\"><div class=\"sk-item\"><div class=\"sk-label-container\"><div class=\"sk-label sk-toggleable\"><input class=\"sk-toggleable__control sk-hidden--visually\" id=\"sk-estimator-id-8\" type=\"checkbox\" ><label for=\"sk-estimator-id-8\" class=\"sk-toggleable__label sk-toggleable__label-arrow\">estimator: RandomForestClassifier</label><div class=\"sk-toggleable__content\"><pre>RandomForestClassifier(random_state=50)</pre></div></div></div><div class=\"sk-serial\"><div class=\"sk-item\"><div class=\"sk-estimator sk-toggleable\"><input class=\"sk-toggleable__control sk-hidden--visually\" id=\"sk-estimator-id-9\" type=\"checkbox\" ><label for=\"sk-estimator-id-9\" class=\"sk-toggleable__label sk-toggleable__label-arrow\">RandomForestClassifier</label><div class=\"sk-toggleable__content\"><pre>RandomForestClassifier(random_state=50)</pre></div></div></div></div></div></div></div></div></div></div>"
      ],
      "text/plain": [
       "RandomizedSearchCV(cv=7, estimator=RandomForestClassifier(random_state=50),\n",
       "                   n_iter=25, n_jobs=-1,\n",
       "                   param_distributions={'bootstrap': [True, False],\n",
       "                                        'max_depth': [None, 3, 4, 5, 6, 7, 8, 9,\n",
       "                                                      10, 11, 12, 13, 14, 15,\n",
       "                                                      16, 17, 18, 19, 20],\n",
       "                                        'max_features': ['auto', 'sqrt', None,\n",
       "                                                         0.5, 0.6, 0.7,\n",
       "                                                         0.7999999999999999,\n",
       "                                                         0.8999999999999999],\n",
       "                                        'max_leaf_nodes': [None, 10, 11, 12, 13,\n",
       "                                                           14, 15, 16, 17, 18,\n",
       "                                                           19, 20, 21...\n",
       "       114, 115, 116, 117, 118, 119, 120, 121, 122, 123, 124, 125, 126,\n",
       "       127, 128, 129, 130, 131, 132, 133, 134, 135, 136, 137, 138, 139,\n",
       "       140, 141, 142, 143, 144, 145, 146, 147, 148, 149, 150, 151, 152,\n",
       "       153, 154, 155, 156, 157, 158, 159, 160, 161, 162, 163, 164, 165,\n",
       "       166, 167, 168, 169, 170, 171, 172, 173, 174, 175, 176, 177, 178,\n",
       "       179, 180, 181, 182, 183, 184, 185, 186, 187, 188, 189, 190, 191,\n",
       "       192, 193, 194, 195, 196, 197, 198, 199, 200])},\n",
       "                   random_state=50, scoring='accuracy', verbose=5)"
      ]
     },
     "execution_count": 12,
     "metadata": {},
     "output_type": "execute_result"
    }
   ],
   "source": [
    "# Initialize Random Forest Classifier\n",
    "#model = RandomForestClassifier(random_state=42)\n",
    "\n",
    "# Train the model\n",
    "model.fit(X_train, y_train) # Use X_train if not scaling"
   ]
  },
  {
   "cell_type": "code",
   "execution_count": 13,
   "metadata": {},
   "outputs": [],
   "source": [
    "# Make predictions on the test set\n",
    " \n",
    "y_pred = model.predict(X_test)  # Use X_test if not scaling"
   ]
  },
  {
   "cell_type": "code",
   "execution_count": 14,
   "metadata": {},
   "outputs": [
    {
     "name": "stdout",
     "output_type": "stream",
     "text": [
      "Confusion Matrix:\n",
      "[[16740  8553]\n",
      " [ 6948 28333]]\n",
      "\n",
      "Classification Report:\n",
      "              precision    recall  f1-score   support\n",
      "\n",
      "           1       0.71      0.66      0.68     25293\n",
      "           2       0.77      0.80      0.79     35281\n",
      "\n",
      "    accuracy                           0.74     60574\n",
      "   macro avg       0.74      0.73      0.73     60574\n",
      "weighted avg       0.74      0.74      0.74     60574\n",
      "\n",
      "Accuracy: 0.74\n"
     ]
    }
   ],
   "source": [
    "# Confusion Matrix\n",
    "conf_matrix = confusion_matrix(y_test, y_pred)\n",
    "print(\"Confusion Matrix:\")\n",
    "print(conf_matrix)\n",
    "\n",
    "# Classification Report\n",
    "print(\"\\nClassification Report:\")\n",
    "print(classification_report(y_test, y_pred))\n",
    "\n",
    "# Accuracy\n",
    "accuracy = accuracy_score(y_test, y_pred)\n",
    "print(f\"Accuracy: {accuracy:.2f}\")\n"
   ]
  }
 ],
 "metadata": {
  "kernelspec": {
   "display_name": ".venv",
   "language": "python",
   "name": "python3"
  },
  "language_info": {
   "codemirror_mode": {
    "name": "ipython",
    "version": 3
   },
   "file_extension": ".py",
   "mimetype": "text/x-python",
   "name": "python",
   "nbconvert_exporter": "python",
   "pygments_lexer": "ipython3",
   "version": "3.11.3"
  }
 },
 "nbformat": 4,
 "nbformat_minor": 2
}

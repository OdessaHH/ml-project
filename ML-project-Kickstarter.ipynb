{
 "cells": [
  {
   "cell_type": "markdown",
   "metadata": {},
   "source": [
    "# Machine Learning Project: Kickstarter Projects"
   ]
  },
  {
   "cell_type": "markdown",
   "metadata": {},
   "source": [
    "## 1. Business Knowledge"
   ]
  },
  {
   "cell_type": "markdown",
   "metadata": {},
   "source": [
    "Kickstarter is a crowdfunding platform where creators raise funds to bring their projects to life. Backers pledge money to support projects, which only receive funding if they meet their financial goal."
   ]
  },
  {
   "cell_type": "markdown",
   "metadata": {},
   "source": [
    "## 2. Getting the data"
   ]
  },
  {
   "cell_type": "markdown",
   "metadata": {},
   "source": [
    "### 2.1 Collecting from database and using SQL to join separate .csv files."
   ]
  },
  {
   "cell_type": "code",
   "execution_count": 1,
   "metadata": {},
   "outputs": [
    {
     "data": {
      "text/plain": [
       "'#this code checks if all csv files in a folder have the same columns\\n\\nimport os\\nimport pandas as pd\\n\\ndata_folder = \\'/Users/alexandersimakov/Documents/NeueFische/August/ml-project/ml-project/data/data\\'\\nfile_list = os.listdir(data_folder)\\n\\n# Read the first CSV file to get the column names\\nfirst_file_path = os.path.join(data_folder, file_list[0])\\ndf = pd.read_csv(first_file_path)\\ncolumns_first = df.columns.tolist()\\n\\n# Iterate over the remaining CSV files and compare their columns with the first file\\nfor file_name in file_list[1:]:\\n    file_path = os.path.join(data_folder, file_name)\\n    \\n    # Check if the file is empty before reading it\\n    if os.path.getsize(file_path) > 0:\\n        df_temp = pd.read_csv(file_path)\\n        columns_temp = df_temp.columns.tolist()\\n\\n        if columns_temp != columns_first:\\n            print(f\"Columns in {file_name} are different from the first file.\")\\n            print(f\"Columns in {file_name}: {columns_temp}\")\\n            print(f\"Columns in the first file: {columns_first}\")\\n            break\\n    else:\\n        print(f\"Skipping empty file: {file_name}\")\\n\\nelse:\\n    print(\"All CSV files have the same columns.\")\\n    print(f\"Columns in all files: {columns_first}\")'"
      ]
     },
     "execution_count": 1,
     "metadata": {},
     "output_type": "execute_result"
    }
   ],
   "source": [
    "'''#this code checks if all csv files in a folder have the same columns\n",
    "\n",
    "import os\n",
    "import pandas as pd\n",
    "\n",
    "data_folder = 'data/data'\n",
    "file_list = os.listdir(data_folder)\n",
    "\n",
    "# Read the first CSV file to get the column names\n",
    "first_file_path = os.path.join(data_folder, file_list[0])\n",
    "df = pd.read_csv(first_file_path)\n",
    "columns_first = df.columns.tolist()\n",
    "\n",
    "# Iterate over the remaining CSV files and compare their columns with the first file\n",
    "for file_name in file_list[1:]:\n",
    "    file_path = os.path.join(data_folder, file_name)\n",
    "    \n",
    "    # Check if the file is empty before reading it\n",
    "    if os.path.getsize(file_path) > 0:\n",
    "        df_temp = pd.read_csv(file_path)\n",
    "        columns_temp = df_temp.columns.tolist()\n",
    "\n",
    "        if columns_temp != columns_first:\n",
    "            print(f\"Columns in {file_name} are different from the first file.\")\n",
    "            print(f\"Columns in {file_name}: {columns_temp}\")\n",
    "            print(f\"Columns in the first file: {columns_first}\")\n",
    "            break\n",
    "    else:\n",
    "        print(f\"Skipping empty file: {file_name}\")\n",
    "\n",
    "else:\n",
    "    print(\"All CSV files have the same columns.\")\n",
    "    print(f\"Columns in all files: {columns_first}\")'''"
   ]
  },
  {
   "cell_type": "code",
   "execution_count": 2,
   "metadata": {},
   "outputs": [
    {
     "data": {
      "text/plain": [
       "'#this code checks if all csv files in a folder have the same columns\\n\\nimport os\\nimport pandas as pd\\n\\ndata_folder = \\'/Users/alexandersimakov/Documents/NeueFische/August/ml-project/ml-project/data/data\\'\\nfile_list = os.listdir(data_folder)\\n\\n# Read the first CSV file to get the column names\\nfirst_file_path = os.path.join(data_folder, file_list[0])\\ndf = pd.read_csv(first_file_path)\\ncolumns_first = df.columns.tolist()\\n\\n# Iterate over the remaining CSV files and compare their columns with the first file\\nfor file_name in file_list[1:]:\\n    file_path = os.path.join(data_folder, file_name)\\n    \\n    # Check if the file is empty before reading it\\n    if os.path.getsize(file_path) > 0:\\n        df_temp = pd.read_csv(file_path)\\n        columns_temp = df_temp.columns.tolist()\\n\\n        if columns_temp != columns_first:\\n            print(f\"Columns in {file_name} are different from the first file.\")\\n            print(f\"Columns in {file_name}: {columns_temp}\")\\n            print(f\"Columns in the first file: {columns_first}\")\\n            break\\n    else:\\n        print(f\"Skipping empty file: {file_name}\")\\n\\nelse:\\n    print(\"All CSV files have the same columns.\")\\n    print(f\"Columns in all files: {columns_first}\")'"
      ]
     },
     "execution_count": 2,
     "metadata": {},
     "output_type": "execute_result"
    }
   ],
   "source": [
    "'''#this code checks if all csv files in a folder have the same columns\n",
    "\n",
    "import os\n",
    "import pandas as pd\n",
    "\n",
    "data_folder = 'data/data'\n",
    "file_list = os.listdir(data_folder)\n",
    "\n",
    "# Read the first CSV file to get the column names\n",
    "first_file_path = os.path.join(data_folder, file_list[0])\n",
    "df = pd.read_csv(first_file_path)\n",
    "columns_first = df.columns.tolist()\n",
    "\n",
    "# Iterate over the remaining CSV files and compare their columns with the first file\n",
    "for file_name in file_list[1:]:\n",
    "    file_path = os.path.join(data_folder, file_name)\n",
    "    \n",
    "    # Check if the file is empty before reading it\n",
    "    if os.path.getsize(file_path) > 0:\n",
    "        df_temp = pd.read_csv(file_path)\n",
    "        columns_temp = df_temp.columns.tolist()\n",
    "\n",
    "        if columns_temp != columns_first:\n",
    "            print(f\"Columns in {file_name} are different from the first file.\")\n",
    "            print(f\"Columns in {file_name}: {columns_temp}\")\n",
    "            print(f\"Columns in the first file: {columns_first}\")\n",
    "            break\n",
    "    else:\n",
    "        print(f\"Skipping empty file: {file_name}\")\n",
    "\n",
    "else:\n",
    "    print(\"All CSV files have the same columns.\")\n",
    "    print(f\"Columns in all files: {columns_first}\")'''"
   ]
  },
  {
   "cell_type": "code",
   "execution_count": 3,
   "metadata": {},
   "outputs": [
    {
     "data": {
      "text/plain": [
       "'#this code joins all csvs to the same df\\n\\ndata_folder = \\'/Users/alexandersimakov/Documents/NeueFische/August/ml-project/ml-project/data/data\\'\\nfile_list = os.listdir(data_folder)\\n\\n# Read the first CSV file to initialize the DataFrame\\nfirst_file_path = os.path.join(data_folder, file_list[0])\\ndf = pd.read_csv(first_file_path)\\n\\n# Iterate over the remaining CSV files and concatenate them to the DataFrame\\nfor file_name in file_list[1:]:\\n    file_path = os.path.join(data_folder, file_name)\\n    \\n    # Check if the file is empty before reading it\\n    if os.path.getsize(file_path) > 0:\\n        df_temp = pd.read_csv(file_path)\\n        df = pd.concat([df, df_temp], ignore_index=True)\\n    else:\\n        print(f\"Skipping empty file: {file_name}\")\\n\\n# Print the resulting DataFrame\\nprint(df)'"
      ]
     },
     "execution_count": 3,
     "metadata": {},
     "output_type": "execute_result"
    }
   ],
   "source": [
    "'''#this code joins all csvs to the same df\n",
    "\n",
    "data_folder = 'data/data'\n",
    "file_list = os.listdir(data_folder)\n",
    "\n",
    "# Read the first CSV file to initialize the DataFrame\n",
    "first_file_path = os.path.join(data_folder, file_list[0])\n",
    "df = pd.read_csv(first_file_path)\n",
    "\n",
    "# Iterate over the remaining CSV files and concatenate them to the DataFrame\n",
    "for file_name in file_list[1:]:\n",
    "    file_path = os.path.join(data_folder, file_name)\n",
    "    \n",
    "    # Check if the file is empty before reading it\n",
    "    if os.path.getsize(file_path) > 0:\n",
    "        df_temp = pd.read_csv(file_path)\n",
    "        df = pd.concat([df, df_temp], ignore_index=True)\n",
    "    else:\n",
    "        print(f\"Skipping empty file: {file_name}\")\n",
    "\n",
    "# Print the resulting DataFrame\n",
    "print(df)'''"
   ]
  },
  {
   "cell_type": "code",
   "execution_count": 4,
   "metadata": {},
   "outputs": [
    {
     "data": {
      "text/plain": [
       "\"#creates an new csv file with the joined data\\n#df.head()\\n\\ndf.to_csv('raw_joined_data.csv', index=False)\""
      ]
     },
     "execution_count": 4,
     "metadata": {},
     "output_type": "execute_result"
    }
   ],
   "source": [
    "'''#creates an new csv file with the joined data\n",
    "#df.head()\n",
    "\n",
    "df.to_csv('raw_joined_data.csv', index=False)'''"
   ]
  },
  {
   "cell_type": "markdown",
   "metadata": {},
   "source": [
    "### 2.2 Setting up the Jupyter notebook with libraries etc."
   ]
  },
  {
   "cell_type": "code",
   "execution_count": 5,
   "metadata": {},
   "outputs": [],
   "source": [
    "import pandas as pd\n",
    "import seaborn as sns\n",
    "import numpy as np\n",
    "import matplotlib.pyplot as plt"
   ]
  },
  {
   "cell_type": "markdown",
   "metadata": {},
   "source": [
    "## 3. EDA"
   ]
  },
  {
   "cell_type": "code",
   "execution_count": 6,
   "metadata": {},
   "outputs": [
    {
     "name": "stdout",
     "output_type": "stream",
     "text": [
      "<class 'pandas.core.frame.DataFrame'>\n",
      "RangeIndex: 209222 entries, 0 to 209221\n",
      "Data columns (total 37 columns):\n",
      " #   Column                    Non-Null Count   Dtype  \n",
      "---  ------                    --------------   -----  \n",
      " 0   backers_count             209222 non-null  int64  \n",
      " 1   blurb                     209214 non-null  object \n",
      " 2   category                  209222 non-null  object \n",
      " 3   converted_pledged_amount  209222 non-null  int64  \n",
      " 4   country                   209222 non-null  object \n",
      " 5   created_at                209222 non-null  int64  \n",
      " 6   creator                   209222 non-null  object \n",
      " 7   currency                  209222 non-null  object \n",
      " 8   currency_symbol           209222 non-null  object \n",
      " 9   currency_trailing_code    209222 non-null  bool   \n",
      " 10  current_currency          209222 non-null  object \n",
      " 11  deadline                  209222 non-null  int64  \n",
      " 12  disable_communication     209222 non-null  bool   \n",
      " 13  friends                   300 non-null     object \n",
      " 14  fx_rate                   209222 non-null  float64\n",
      " 15  goal                      209222 non-null  float64\n",
      " 16  id                        209222 non-null  int64  \n",
      " 17  is_backing                300 non-null     object \n",
      " 18  is_starrable              209222 non-null  bool   \n",
      " 19  is_starred                300 non-null     object \n",
      " 20  launched_at               209222 non-null  int64  \n",
      " 21  location                  208996 non-null  object \n",
      " 22  name                      209222 non-null  object \n",
      " 23  permissions               300 non-null     object \n",
      " 24  photo                     209222 non-null  object \n",
      " 25  pledged                   209222 non-null  float64\n",
      " 26  profile                   209222 non-null  object \n",
      " 27  slug                      209222 non-null  object \n",
      " 28  source_url                209222 non-null  object \n",
      " 29  spotlight                 209222 non-null  bool   \n",
      " 30  staff_pick                209222 non-null  bool   \n",
      " 31  state                     209222 non-null  object \n",
      " 32  state_changed_at          209222 non-null  int64  \n",
      " 33  static_usd_rate           209222 non-null  float64\n",
      " 34  urls                      209222 non-null  object \n",
      " 35  usd_pledged               209222 non-null  float64\n",
      " 36  usd_type                  208742 non-null  object \n",
      "dtypes: bool(5), float64(5), int64(7), object(20)\n",
      "memory usage: 52.1+ MB\n"
     ]
    }
   ],
   "source": [
    "# Import joined raw data as .csv\n",
    "data = pd.read_csv('data/raw_joined_data.csv')\n",
    "data.info()"
   ]
  },
  {
   "cell_type": "markdown",
   "metadata": {},
   "source": [
    "Columns 'category' and 'creator' are in JSON format, so we need to transform them and we only need the name from category."
   ]
  },
  {
   "cell_type": "code",
   "execution_count": 7,
   "metadata": {},
   "outputs": [],
   "source": [
    "import json\n",
    "\n",
    "# Parse JSON strings and extract 'key1'\n",
    "data['category'] = data['category'].apply(json.loads)\n",
    "data['category_new'] = data['category'].apply(lambda x: x['name'])\n"
   ]
  },
  {
   "cell_type": "markdown",
   "metadata": {},
   "source": [
    "As we are planning to use the data labeled with 'state' = 'live' as test data, we need to check if we are able to label them as 'successful' or 'failed' already, e.g. by detecting patterns in successful projects that we can already use for the live data."
   ]
  },
  {
   "cell_type": "code",
   "execution_count": 8,
   "metadata": {},
   "outputs": [
    {
     "data": {
      "text/plain": [
       "\" df_live = df_new[df_new['state'] == 0] \""
      ]
     },
     "execution_count": 8,
     "metadata": {},
     "output_type": "execute_result"
    }
   ],
   "source": [
    "\"\"\" df_live = df_new[df_new['state'] == 0] \"\"\""
   ]
  },
  {
   "cell_type": "code",
   "execution_count": 9,
   "metadata": {},
   "outputs": [
    {
     "data": {
      "text/plain": [
       "' df_live.describe() '"
      ]
     },
     "execution_count": 9,
     "metadata": {},
     "output_type": "execute_result"
    }
   ],
   "source": [
    "\"\"\" df_live.describe() \"\"\""
   ]
  },
  {
   "cell_type": "code",
   "execution_count": 10,
   "metadata": {},
   "outputs": [
    {
     "data": {
      "text/plain": [
       "' df_live.info() '"
      ]
     },
     "execution_count": 10,
     "metadata": {},
     "output_type": "execute_result"
    }
   ],
   "source": [
    "\"\"\" df_live.info() \"\"\""
   ]
  },
  {
   "cell_type": "code",
   "execution_count": 11,
   "metadata": {},
   "outputs": [
    {
     "data": {
      "text/plain": [
       "' df_live.hist(bins=30, figsize=(15, 10))\\nplt.show() '"
      ]
     },
     "execution_count": 11,
     "metadata": {},
     "output_type": "execute_result"
    }
   ],
   "source": [
    "\"\"\" df_live.hist(bins=30, figsize=(15, 10))\n",
    "plt.show() \"\"\""
   ]
  },
  {
   "cell_type": "code",
   "execution_count": 12,
   "metadata": {},
   "outputs": [
    {
     "data": {
      "text/plain": [
       "\" for col in df_live.select_dtypes(include=['float64', 'int64']).columns:\\n    plt.figure(figsize=(10, 4))\\n    sns.boxplot(x=df_live[col])\\n    plt.title(f'Boxplot of {col}')\\n    plt.show() \""
      ]
     },
     "execution_count": 12,
     "metadata": {},
     "output_type": "execute_result"
    }
   ],
   "source": [
    "\"\"\" for col in df_live.select_dtypes(include=['float64', 'int64']).columns:\n",
    "    plt.figure(figsize=(10, 4))\n",
    "    sns.boxplot(x=df_live[col])\n",
    "    plt.title(f'Boxplot of {col}')\n",
    "    plt.show() \"\"\""
   ]
  },
  {
   "cell_type": "markdown",
   "metadata": {},
   "source": [
    "## 4. Data Cleaning"
   ]
  },
  {
   "cell_type": "markdown",
   "metadata": {},
   "source": [
    "### 4.1 Drop columns, check for NaNs, check formats"
   ]
  },
  {
   "cell_type": "code",
   "execution_count": 13,
   "metadata": {},
   "outputs": [
    {
     "name": "stdout",
     "output_type": "stream",
     "text": [
      "<class 'pandas.core.frame.DataFrame'>\n",
      "RangeIndex: 209222 entries, 0 to 209221\n",
      "Data columns (total 38 columns):\n",
      " #   Column                    Non-Null Count   Dtype  \n",
      "---  ------                    --------------   -----  \n",
      " 0   backers_count             209222 non-null  int64  \n",
      " 1   blurb                     209214 non-null  object \n",
      " 2   category                  209222 non-null  object \n",
      " 3   converted_pledged_amount  209222 non-null  int64  \n",
      " 4   country                   209222 non-null  object \n",
      " 5   created_at                209222 non-null  int64  \n",
      " 6   creator                   209222 non-null  object \n",
      " 7   currency                  209222 non-null  object \n",
      " 8   currency_symbol           209222 non-null  object \n",
      " 9   currency_trailing_code    209222 non-null  bool   \n",
      " 10  current_currency          209222 non-null  object \n",
      " 11  deadline                  209222 non-null  int64  \n",
      " 12  disable_communication     209222 non-null  bool   \n",
      " 13  friends                   300 non-null     object \n",
      " 14  fx_rate                   209222 non-null  float64\n",
      " 15  goal                      209222 non-null  float64\n",
      " 16  id                        209222 non-null  int64  \n",
      " 17  is_backing                300 non-null     object \n",
      " 18  is_starrable              209222 non-null  bool   \n",
      " 19  is_starred                300 non-null     object \n",
      " 20  launched_at               209222 non-null  int64  \n",
      " 21  location                  208996 non-null  object \n",
      " 22  name                      209222 non-null  object \n",
      " 23  permissions               300 non-null     object \n",
      " 24  photo                     209222 non-null  object \n",
      " 25  pledged                   209222 non-null  float64\n",
      " 26  profile                   209222 non-null  object \n",
      " 27  slug                      209222 non-null  object \n",
      " 28  source_url                209222 non-null  object \n",
      " 29  spotlight                 209222 non-null  bool   \n",
      " 30  staff_pick                209222 non-null  bool   \n",
      " 31  state                     209222 non-null  object \n",
      " 32  state_changed_at          209222 non-null  int64  \n",
      " 33  static_usd_rate           209222 non-null  float64\n",
      " 34  urls                      209222 non-null  object \n",
      " 35  usd_pledged               209222 non-null  float64\n",
      " 36  usd_type                  208742 non-null  object \n",
      " 37  category_new              209222 non-null  object \n",
      "dtypes: bool(5), float64(5), int64(7), object(21)\n",
      "memory usage: 53.7+ MB\n"
     ]
    }
   ],
   "source": [
    "data.info()"
   ]
  },
  {
   "cell_type": "code",
   "execution_count": 14,
   "metadata": {},
   "outputs": [],
   "source": [
    "data.drop(['category', 'creator', 'fx_rate', 'currency', 'currency_symbol', 'currency_trailing_code', 'current_currency', 'id', 'photo', 'profile', 'slug', 'source_url', 'static_usd_rate', 'urls', 'usd_pledged', 'usd_type', 'backers_count', 'converted_pledged_amount', 'pledged', 'launched_at',], axis=1, inplace=True)"
   ]
  },
  {
   "cell_type": "markdown",
   "metadata": {},
   "source": [
    "Check for missing values."
   ]
  },
  {
   "cell_type": "code",
   "execution_count": 15,
   "metadata": {},
   "outputs": [
    {
     "name": "stdout",
     "output_type": "stream",
     "text": [
      "blurb                         8\n",
      "country                       0\n",
      "created_at                    0\n",
      "deadline                      0\n",
      "disable_communication         0\n",
      "friends                  208922\n",
      "goal                          0\n",
      "is_backing               208922\n",
      "is_starrable                  0\n",
      "is_starred               208922\n",
      "location                    226\n",
      "name                          0\n",
      "permissions              208922\n",
      "spotlight                     0\n",
      "staff_pick                    0\n",
      "state                         0\n",
      "state_changed_at              0\n",
      "category_new                  0\n",
      "dtype: int64\n"
     ]
    }
   ],
   "source": [
    "# Count the number of NaN values per column\n",
    "nan_count_per_column = data.isna().sum()\n",
    "print(nan_count_per_column)"
   ]
  },
  {
   "cell_type": "markdown",
   "metadata": {},
   "source": [
    "Dropping further columns with missing values."
   ]
  },
  {
   "cell_type": "code",
   "execution_count": 16,
   "metadata": {},
   "outputs": [],
   "source": [
    "data.drop(['location', 'friends', 'permissions', 'blurb', 'is_backing'], axis=1, inplace=True)"
   ]
  },
  {
   "cell_type": "code",
   "execution_count": 17,
   "metadata": {},
   "outputs": [
    {
     "data": {
      "text/html": [
       "<div>\n",
       "<style scoped>\n",
       "    .dataframe tbody tr th:only-of-type {\n",
       "        vertical-align: middle;\n",
       "    }\n",
       "\n",
       "    .dataframe tbody tr th {\n",
       "        vertical-align: top;\n",
       "    }\n",
       "\n",
       "    .dataframe thead th {\n",
       "        text-align: right;\n",
       "    }\n",
       "</style>\n",
       "<table border=\"1\" class=\"dataframe\">\n",
       "  <thead>\n",
       "    <tr style=\"text-align: right;\">\n",
       "      <th></th>\n",
       "      <th>country</th>\n",
       "      <th>created_at</th>\n",
       "      <th>deadline</th>\n",
       "      <th>disable_communication</th>\n",
       "      <th>goal</th>\n",
       "      <th>is_starrable</th>\n",
       "      <th>is_starred</th>\n",
       "      <th>name</th>\n",
       "      <th>spotlight</th>\n",
       "      <th>staff_pick</th>\n",
       "      <th>state</th>\n",
       "      <th>state_changed_at</th>\n",
       "      <th>category_new</th>\n",
       "    </tr>\n",
       "  </thead>\n",
       "  <tbody>\n",
       "    <tr>\n",
       "      <th>0</th>\n",
       "      <td>US</td>\n",
       "      <td>1541459205</td>\n",
       "      <td>1552539775</td>\n",
       "      <td>False</td>\n",
       "      <td>28000.0</td>\n",
       "      <td>False</td>\n",
       "      <td>NaN</td>\n",
       "      <td>Babalus Children's Shoes</td>\n",
       "      <td>False</td>\n",
       "      <td>False</td>\n",
       "      <td>live</td>\n",
       "      <td>1548223375</td>\n",
       "      <td>Footwear</td>\n",
       "    </tr>\n",
       "    <tr>\n",
       "      <th>1</th>\n",
       "      <td>US</td>\n",
       "      <td>1501684093</td>\n",
       "      <td>1504976459</td>\n",
       "      <td>False</td>\n",
       "      <td>1000.0</td>\n",
       "      <td>False</td>\n",
       "      <td>NaN</td>\n",
       "      <td>The Ofrenda Oracle Deck</td>\n",
       "      <td>True</td>\n",
       "      <td>False</td>\n",
       "      <td>successful</td>\n",
       "      <td>1504976459</td>\n",
       "      <td>Playing Cards</td>\n",
       "    </tr>\n",
       "    <tr>\n",
       "      <th>2</th>\n",
       "      <td>US</td>\n",
       "      <td>1348987533</td>\n",
       "      <td>1371013395</td>\n",
       "      <td>False</td>\n",
       "      <td>15000.0</td>\n",
       "      <td>False</td>\n",
       "      <td>NaN</td>\n",
       "      <td>Record Electra's Debut Album (Pop, Rock, Class...</td>\n",
       "      <td>True</td>\n",
       "      <td>False</td>\n",
       "      <td>successful</td>\n",
       "      <td>1371013395</td>\n",
       "      <td>Rock</td>\n",
       "    </tr>\n",
       "    <tr>\n",
       "      <th>3</th>\n",
       "      <td>GB</td>\n",
       "      <td>1483780271</td>\n",
       "      <td>1489425776</td>\n",
       "      <td>False</td>\n",
       "      <td>10000.0</td>\n",
       "      <td>False</td>\n",
       "      <td>NaN</td>\n",
       "      <td>The Mist of Tribunal - A Card Game</td>\n",
       "      <td>False</td>\n",
       "      <td>False</td>\n",
       "      <td>failed</td>\n",
       "      <td>1489425776</td>\n",
       "      <td>Playing Cards</td>\n",
       "    </tr>\n",
       "    <tr>\n",
       "      <th>4</th>\n",
       "      <td>US</td>\n",
       "      <td>1354817071</td>\n",
       "      <td>1357763527</td>\n",
       "      <td>False</td>\n",
       "      <td>2800.0</td>\n",
       "      <td>False</td>\n",
       "      <td>NaN</td>\n",
       "      <td>Help change the face of Brain Impairment</td>\n",
       "      <td>True</td>\n",
       "      <td>False</td>\n",
       "      <td>successful</td>\n",
       "      <td>1357763527</td>\n",
       "      <td>Nonfiction</td>\n",
       "    </tr>\n",
       "    <tr>\n",
       "      <th>...</th>\n",
       "      <td>...</td>\n",
       "      <td>...</td>\n",
       "      <td>...</td>\n",
       "      <td>...</td>\n",
       "      <td>...</td>\n",
       "      <td>...</td>\n",
       "      <td>...</td>\n",
       "      <td>...</td>\n",
       "      <td>...</td>\n",
       "      <td>...</td>\n",
       "      <td>...</td>\n",
       "      <td>...</td>\n",
       "      <td>...</td>\n",
       "    </tr>\n",
       "    <tr>\n",
       "      <th>209216</th>\n",
       "      <td>US</td>\n",
       "      <td>1405625585</td>\n",
       "      <td>1412207040</td>\n",
       "      <td>False</td>\n",
       "      <td>3883.0</td>\n",
       "      <td>False</td>\n",
       "      <td>NaN</td>\n",
       "      <td>It Springs to Life...\"Pellucidity\" YAIMA's Fir...</td>\n",
       "      <td>True</td>\n",
       "      <td>False</td>\n",
       "      <td>successful</td>\n",
       "      <td>1412207040</td>\n",
       "      <td>Electronic Music</td>\n",
       "    </tr>\n",
       "    <tr>\n",
       "      <th>209218</th>\n",
       "      <td>NL</td>\n",
       "      <td>1493041572</td>\n",
       "      <td>1497909600</td>\n",
       "      <td>False</td>\n",
       "      <td>5000.0</td>\n",
       "      <td>False</td>\n",
       "      <td>NaN</td>\n",
       "      <td>ARIA LESTER Debut EP</td>\n",
       "      <td>True</td>\n",
       "      <td>False</td>\n",
       "      <td>successful</td>\n",
       "      <td>1497909600</td>\n",
       "      <td>Electronic Music</td>\n",
       "    </tr>\n",
       "    <tr>\n",
       "      <th>209219</th>\n",
       "      <td>US</td>\n",
       "      <td>1341343795</td>\n",
       "      <td>1347854340</td>\n",
       "      <td>False</td>\n",
       "      <td>2500.0</td>\n",
       "      <td>False</td>\n",
       "      <td>NaN</td>\n",
       "      <td>FlashPals: Cuddly USB Drives Save More Than Yo...</td>\n",
       "      <td>True</td>\n",
       "      <td>False</td>\n",
       "      <td>successful</td>\n",
       "      <td>1347854341</td>\n",
       "      <td>Hardware</td>\n",
       "    </tr>\n",
       "    <tr>\n",
       "      <th>209220</th>\n",
       "      <td>US</td>\n",
       "      <td>1425256957</td>\n",
       "      <td>1429536375</td>\n",
       "      <td>False</td>\n",
       "      <td>5500.0</td>\n",
       "      <td>False</td>\n",
       "      <td>NaN</td>\n",
       "      <td>Transmedia Gallery Space STIFF 2015</td>\n",
       "      <td>True</td>\n",
       "      <td>False</td>\n",
       "      <td>successful</td>\n",
       "      <td>1429536379</td>\n",
       "      <td>Festivals</td>\n",
       "    </tr>\n",
       "    <tr>\n",
       "      <th>209221</th>\n",
       "      <td>US</td>\n",
       "      <td>1263225900</td>\n",
       "      <td>1266814740</td>\n",
       "      <td>False</td>\n",
       "      <td>1000.0</td>\n",
       "      <td>False</td>\n",
       "      <td>NaN</td>\n",
       "      <td>The @1000TimesYes 2009 Tweet Box</td>\n",
       "      <td>True</td>\n",
       "      <td>True</td>\n",
       "      <td>successful</td>\n",
       "      <td>1266814815</td>\n",
       "      <td>Journalism</td>\n",
       "    </tr>\n",
       "  </tbody>\n",
       "</table>\n",
       "<p>182558 rows × 13 columns</p>\n",
       "</div>"
      ],
      "text/plain": [
       "       country  created_at    deadline  disable_communication     goal   \n",
       "0           US  1541459205  1552539775                  False  28000.0  \\\n",
       "1           US  1501684093  1504976459                  False   1000.0   \n",
       "2           US  1348987533  1371013395                  False  15000.0   \n",
       "3           GB  1483780271  1489425776                  False  10000.0   \n",
       "4           US  1354817071  1357763527                  False   2800.0   \n",
       "...        ...         ...         ...                    ...      ...   \n",
       "209216      US  1405625585  1412207040                  False   3883.0   \n",
       "209218      NL  1493041572  1497909600                  False   5000.0   \n",
       "209219      US  1341343795  1347854340                  False   2500.0   \n",
       "209220      US  1425256957  1429536375                  False   5500.0   \n",
       "209221      US  1263225900  1266814740                  False   1000.0   \n",
       "\n",
       "        is_starrable is_starred   \n",
       "0              False        NaN  \\\n",
       "1              False        NaN   \n",
       "2              False        NaN   \n",
       "3              False        NaN   \n",
       "4              False        NaN   \n",
       "...              ...        ...   \n",
       "209216         False        NaN   \n",
       "209218         False        NaN   \n",
       "209219         False        NaN   \n",
       "209220         False        NaN   \n",
       "209221         False        NaN   \n",
       "\n",
       "                                                     name  spotlight   \n",
       "0                                Babalus Children's Shoes      False  \\\n",
       "1                                 The Ofrenda Oracle Deck       True   \n",
       "2       Record Electra's Debut Album (Pop, Rock, Class...       True   \n",
       "3                      The Mist of Tribunal - A Card Game      False   \n",
       "4                Help change the face of Brain Impairment       True   \n",
       "...                                                   ...        ...   \n",
       "209216  It Springs to Life...\"Pellucidity\" YAIMA's Fir...       True   \n",
       "209218                               ARIA LESTER Debut EP       True   \n",
       "209219  FlashPals: Cuddly USB Drives Save More Than Yo...       True   \n",
       "209220                Transmedia Gallery Space STIFF 2015       True   \n",
       "209221                   The @1000TimesYes 2009 Tweet Box       True   \n",
       "\n",
       "        staff_pick       state  state_changed_at      category_new  \n",
       "0            False        live        1548223375          Footwear  \n",
       "1            False  successful        1504976459     Playing Cards  \n",
       "2            False  successful        1371013395              Rock  \n",
       "3            False      failed        1489425776     Playing Cards  \n",
       "4            False  successful        1357763527        Nonfiction  \n",
       "...            ...         ...               ...               ...  \n",
       "209216       False  successful        1412207040  Electronic Music  \n",
       "209218       False  successful        1497909600  Electronic Music  \n",
       "209219       False  successful        1347854341          Hardware  \n",
       "209220       False  successful        1429536379         Festivals  \n",
       "209221        True  successful        1266814815        Journalism  \n",
       "\n",
       "[182558 rows x 13 columns]"
      ]
     },
     "execution_count": 17,
     "metadata": {},
     "output_type": "execute_result"
    }
   ],
   "source": [
    "data.drop_duplicates()"
   ]
  },
  {
   "cell_type": "markdown",
   "metadata": {},
   "source": [
    "Converting time columns from UNIX into human readable format"
   ]
  },
  {
   "cell_type": "code",
   "execution_count": 18,
   "metadata": {},
   "outputs": [],
   "source": [
    "data['created_at']=(pd.to_datetime(data['created_at'],unit='s'))\n",
    "data['deadline'] = (pd.to_datetime(data['deadline'], unit='s'))\n",
    "data['state_changed_at'] = (pd.to_datetime(data['state_changed_at'], unit='s'))"
   ]
  },
  {
   "cell_type": "markdown",
   "metadata": {},
   "source": [
    "Getting Dummies for our target variable"
   ]
  },
  {
   "cell_type": "code",
   "execution_count": 19,
   "metadata": {},
   "outputs": [],
   "source": [
    "d={\"live\":0,\"failed\":1, \"successful\":2, \"canceled\":1, \"suspended\":1 }\n",
    "data['state']=data['state'].map(d)"
   ]
  },
  {
   "cell_type": "markdown",
   "metadata": {},
   "source": [
    "### 4.2 Data Visualisation"
   ]
  },
  {
   "cell_type": "code",
   "execution_count": 20,
   "metadata": {},
   "outputs": [],
   "source": [
    "#selected_columns = data[['backers_count', 'converted_pledged_amount', 'spotlight', 'is_starrable', 'staff_pick', 'category_new', 'amount_per_backer', 'marketing_mix']]\n",
    "\n",
    "#sns.pairplot(selected_columns, kind='scatter', height=2.5, aspect=1)\n",
    "#plt.show()"
   ]
  },
  {
   "cell_type": "markdown",
   "metadata": {},
   "source": [
    "### 4.3 Statistics: Correlation Matrix"
   ]
  },
  {
   "cell_type": "code",
   "execution_count": 21,
   "metadata": {},
   "outputs": [
    {
     "name": "stdout",
     "output_type": "stream",
     "text": [
      "                       created_at  deadline  disable_communication      goal   \n",
      "created_at               1.000000  0.983713              -0.005590  0.003976  \\\n",
      "deadline                 0.983713  1.000000              -0.007501  0.004798   \n",
      "disable_communication   -0.005590 -0.007501               1.000000  0.008566   \n",
      "goal                     0.003976  0.004798               0.008566  1.000000   \n",
      "is_starrable             0.259400  0.265997              -0.010032 -0.000269   \n",
      "is_starred               0.016641 -0.031237                    NaN -0.010055   \n",
      "spotlight               -0.038476 -0.036473              -0.061833 -0.033962   \n",
      "staff_pick              -0.044145 -0.035992              -0.021032 -0.004262   \n",
      "state                   -0.121127 -0.121545              -0.050928 -0.029695   \n",
      "state_changed_at         0.983657  0.999926              -0.009238  0.004632   \n",
      "\n",
      "                       is_starrable  is_starred  spotlight  staff_pick   \n",
      "created_at                 0.259400    0.016641  -0.038476   -0.044145  \\\n",
      "deadline                   0.265997   -0.031237  -0.036473   -0.035992   \n",
      "disable_communication     -0.010032         NaN  -0.061833   -0.021032   \n",
      "goal                      -0.000269   -0.010055  -0.033962   -0.004262   \n",
      "is_starrable               1.000000   -0.130349  -0.207692   -0.019257   \n",
      "is_starred                -0.130349    1.000000        NaN   -0.019445   \n",
      "spotlight                 -0.207692         NaN   1.000000    0.245951   \n",
      "staff_pick                -0.019257   -0.019445   0.245951    1.000000   \n",
      "state                     -0.495973         NaN   0.948285    0.222031   \n",
      "state_changed_at           0.257530   -0.151383  -0.033049   -0.035426   \n",
      "\n",
      "                          state  state_changed_at  \n",
      "created_at            -0.121127          0.983657  \n",
      "deadline              -0.121545          0.999926  \n",
      "disable_communication -0.050928         -0.009238  \n",
      "goal                  -0.029695          0.004632  \n",
      "is_starrable          -0.495973          0.257530  \n",
      "is_starred                  NaN         -0.151383  \n",
      "spotlight              0.948285         -0.033049  \n",
      "staff_pick             0.222031         -0.035426  \n",
      "state                  1.000000         -0.115719  \n",
      "state_changed_at      -0.115719          1.000000  \n"
     ]
    },
    {
     "data": {
      "image/png": "[encoded data removed]",
      "text/plain": [
       "<Figure size 640x480 with 2 Axes>"
      ]
     },
     "metadata": {},
     "output_type": "display_data"
    }
   ],
   "source": [
    "df_filtered = data.drop(columns=['country', 'name', 'category_new'])\n",
    "\n",
    "# Calculate the correlation matrix\n",
    "correlation_matrix = df_filtered.corr()\n",
    "\n",
    "# Display the correlation matrix\n",
    "print(correlation_matrix)\n",
    "\n",
    "\n",
    "# Plot the heatmap\n",
    "sns.heatmap(correlation_matrix, annot=True, cmap='coolwarm', linewidths=0.5)\n",
    "plt.show()"
   ]
  },
  {
   "cell_type": "markdown",
   "metadata": {},
   "source": [
    "Save cleaned dataframe as .csv"
   ]
  },
  {
   "cell_type": "code",
   "execution_count": 22,
   "metadata": {},
   "outputs": [
    {
     "data": {
      "text/plain": [
       "\" data.to_csv('Kickstarter_correct_timeformat_target_dummies.csv', index=False) \""
      ]
     },
     "execution_count": 22,
     "metadata": {},
     "output_type": "execute_result"
    }
   ],
   "source": [
    "\"\"\" data.to_csv('Kickstarter_correct_timeformat_target_dummies.csv', index=False) \"\"\""
   ]
  },
  {
   "cell_type": "code",
   "execution_count": 23,
   "metadata": {},
   "outputs": [],
   "source": [
    "df = pd.read_csv('data\\Kickstarter_correct_timeformat_target_dummies.csv')\n",
    "df.drop(['name'], axis=1, inplace=True)"
   ]
  },
  {
   "cell_type": "markdown",
   "metadata": {},
   "source": [
    "## 5. Feature Engineering"
   ]
  },
  {
   "cell_type": "code",
   "execution_count": 24,
   "metadata": {},
   "outputs": [],
   "source": [
    "#data['amount_per_backer'] = (data['converted_pledged_amount'] / data['backers_count']).round(2)"
   ]
  },
  {
   "cell_type": "code",
   "execution_count": 25,
   "metadata": {},
   "outputs": [],
   "source": [
    "#data['marketing_mix'] = data[['spotlight', 'staff_pick']].sum(axis=1)"
   ]
  },
  {
   "cell_type": "code",
   "execution_count": 26,
   "metadata": {},
   "outputs": [
    {
     "data": {
      "text/plain": [
       "\" df['timeframe'] = df['launched_at'] - df['created_at']\\ndf['timeframe_in_days'] = df['timeframe'].dt.total_seconds() / (24 * 3600)\\ndf['timeframe_in_days'] = df['timeframe_in_days'].round(0)\\ndf['pledged_percentage'] = (df['converted_pledged_amount'] / df['goal']) * 100 \""
      ]
     },
     "execution_count": 26,
     "metadata": {},
     "output_type": "execute_result"
    }
   ],
   "source": [
    "df['created_at'] = pd.to_datetime(df['created_at'])\n",
    "\"\"\" df['timeframe'] = df['launched_at'] - df['created_at']\n",
    "df['timeframe_in_days'] = df['timeframe'].dt.total_seconds() / (24 * 3600)\n",
    "df['timeframe_in_days'] = df['timeframe_in_days'].round(0)\n",
    "df['pledged_percentage'] = (df['converted_pledged_amount'] / df['goal']) * 100 \"\"\""
   ]
  },
  {
   "cell_type": "markdown",
   "metadata": {},
   "source": [
    "Get dummies for categorical data"
   ]
  },
  {
   "cell_type": "code",
   "execution_count": 27,
   "metadata": {},
   "outputs": [
    {
     "name": "stdout",
     "output_type": "stream",
     "text": [
      "{'US': 0, 'GB': 1, 'FR': 2, 'AU': 3, 'NZ': 4, 'ES': 5, 'IT': 6, 'NO': 7, 'NL': 8, 'CA': 9, 'SG': 10, 'MX': 11, 'SE': 12, 'IE': 13, 'DE': 14, 'BE': 15, 'HK': 16, 'AT': 17, 'JP': 18, 'DK': 19, 'CH': 20, 'LU': 21}\n",
      "<class 'dict'>\n"
     ]
    }
   ],
   "source": [
    "unique_countries = df['country'].unique()\n",
    "country_dict = {country: index for index, country in enumerate(unique_countries)}\n",
    "print(country_dict)\n",
    "print(type(country_dict))"
   ]
  },
  {
   "cell_type": "code",
   "execution_count": 28,
   "metadata": {},
   "outputs": [],
   "source": [
    "df['country_new']=df['country'].map(country_dict)"
   ]
  },
  {
   "cell_type": "code",
   "execution_count": 29,
   "metadata": {},
   "outputs": [
    {
     "name": "stdout",
     "output_type": "stream",
     "text": [
      "{'Footwear': 0, 'Playing Cards': 1, 'Rock': 2, 'Nonfiction': 3, 'Classical Music': 4, 'Music': 5, 'Immersive': 6, 'Accessories': 7, 'Restaurants': 8, 'Mixed Media': 9, 'World Music': 10, 'Experimental': 11, 'Spaces': 12, 'Fine Art': 13, 'Small Batch': 14, 'Plays': 15, 'Sculpture': 16, 'Photography': 17, 'Fashion': 18, 'Electronic Music': 19, 'Software': 20, 'Apparel': 21, 'Performance Art': 22, 'Jewelry': 23, 'Workshops': 24, 'Theater': 25, 'Musical': 26, 'Photobooks': 27, 'Nature': 28, 'Animals': 29, 'Ready-to-wear': 30, 'Places': 31, 'Country & Folk': 32, 'People': 33, 'Indie Rock': 34, 'Graphic Design': 35, 'Narrative Film': 36, 'Television': 37, 'Wearables': 38, 'Performances': 39, 'Sound': 40, 'Video Art': 41, 'Gadgets': 42, 'Printing': 43, 'Anthologies': 44, 'Art Books': 45, 'DIY Electronics': 46, 'Live Games': 47, '3D Printing': 48, 'Civic Design': 49, 'Technology': 50, 'Hardware': 51, 'Camera Equipment': 52, 'Space Exploration': 53, 'Web': 54, 'Literary Spaces': 55, 'Apps': 56, 'Robots': 57, 'Fabrication Tools': 58, 'Flight': 59, 'Taxidermy': 60, 'Vegan': 61, 'Pet Fashion': 62, 'Poetry': 63, 'Puzzles': 64, 'Product Design': 65, 'Installations': 66, 'Events': 67, 'Comic Books': 68, 'Documentary': 69, 'Faith': 70, 'Shorts': 71, 'Conceptual Art': 72, 'Translations': 73, 'Comics': 74, 'Graphic Novels': 75, 'Pottery': 76, 'Tabletop Games': 77, 'Art': 78, 'Digital Art': 79, 'Zines': 80, 'Action': 81, 'Public Art': 82, 'Comedy': 83, 'Painting': 84, 'Webcomics': 85, 'Ceramics': 86, 'Illustration': 87, 'Hip-Hop': 88, 'Cookbooks': 89, 'Food': 90, 'Thrillers': 91, 'Design': 92, 'Movie Theaters': 93, \"Children's Books\": 94, 'Academic': 95, 'Video Games': 96, 'Childrenswear': 97, 'Music Videos': 98, 'Drinks': 99, 'Fantasy': 100, 'Latin': 101, 'Romance': 102, 'Stationery': 103, 'Crochet': 104, 'Typography': 105, \"Farmer's Markets\": 106, 'Food Trucks': 107, 'Young Adult': 108, 'Animation': 109, 'Woodworking': 110, 'DIY': 111, 'Crafts': 112, 'Blues': 113, 'Gaming Hardware': 114, 'Glass': 115, 'Architecture': 116, 'R&B': 117, 'Film & Video': 118, 'Weaving': 119, 'Candles': 120, 'Horror': 121, 'Festivals': 122, 'Periodicals': 123, 'Knitting': 124, 'Kids': 125, 'Webseries': 126, 'Drama': 127, 'Science Fiction': 128, 'Pop': 129, 'Jazz': 130, 'Punk': 131, 'Quilts': 132, 'Dance': 133, 'Fiction': 134, 'Family': 135, 'Photo': 136, 'Interactive Design': 137, 'Print': 138, 'Calendars': 139, 'Residencies': 140, 'Textiles': 141, 'Publishing': 142, 'Audio': 143, 'Video': 144, 'Makerspaces': 145, 'Literary Journals': 146, 'Bacon': 147, 'Community Gardens': 148, 'Letterpress': 149, 'Radio & Podcasts': 150, 'Mobile Games': 151, 'Farms': 152, 'Journalism': 153, 'Metal': 154, 'Couture': 155, 'Games': 156, 'Embroidery': 157, 'Chiptune': 158}\n",
      "<class 'dict'>\n"
     ]
    }
   ],
   "source": [
    "unique_categories = df['category_new'].unique()\n",
    "cat_dict = {category_new: index for index, category_new in enumerate(unique_categories)}\n",
    "print(cat_dict)\n",
    "print(type(cat_dict))"
   ]
  },
  {
   "cell_type": "code",
   "execution_count": 30,
   "metadata": {},
   "outputs": [],
   "source": [
    "df['category_num']=df['category_new'].map(cat_dict)"
   ]
  },
  {
   "cell_type": "code",
   "execution_count": 31,
   "metadata": {},
   "outputs": [],
   "source": [
    "df_with_dummies = pd.get_dummies(df, columns=['disable_communication', 'is_starrable', 'staff_pick'], drop_first=True)"
   ]
  },
  {
   "cell_type": "code",
   "execution_count": 32,
   "metadata": {},
   "outputs": [],
   "source": [
    "df_with_dummies.drop(['country', 'is_starred', 'category_new', 'state_changed_at', 'deadline', 'spotlight'], axis=1, inplace=True)"
   ]
  },
  {
   "cell_type": "code",
   "execution_count": 33,
   "metadata": {},
   "outputs": [
    {
     "data": {
      "text/plain": [
       "\" df_with_dummies.to_csv('Final_Data.csv', index=False) \""
      ]
     },
     "execution_count": 33,
     "metadata": {},
     "output_type": "execute_result"
    }
   ],
   "source": [
    "\"\"\" df_with_dummies.to_csv('Final_Data.csv', index=False) \"\"\""
   ]
  },
  {
   "cell_type": "code",
   "execution_count": 34,
   "metadata": {},
   "outputs": [
    {
     "name": "stdout",
     "output_type": "stream",
     "text": [
      "<class 'pandas.core.frame.DataFrame'>\n",
      "RangeIndex: 209222 entries, 0 to 209221\n",
      "Data columns (total 8 columns):\n",
      " #   Column                      Non-Null Count   Dtype         \n",
      "---  ------                      --------------   -----         \n",
      " 0   created_at                  209222 non-null  datetime64[ns]\n",
      " 1   goal                        209222 non-null  float64       \n",
      " 2   state                       209222 non-null  int64         \n",
      " 3   country_new                 209222 non-null  int64         \n",
      " 4   category_num                209222 non-null  int64         \n",
      " 5   disable_communication_True  209222 non-null  bool          \n",
      " 6   is_starrable_True           209222 non-null  bool          \n",
      " 7   staff_pick_True             209222 non-null  bool          \n",
      "dtypes: bool(3), datetime64[ns](1), float64(1), int64(3)\n",
      "memory usage: 8.6 MB\n"
     ]
    }
   ],
   "source": [
    "df_with_dummies.info()"
   ]
  },
  {
   "cell_type": "code",
   "execution_count": 35,
   "metadata": {},
   "outputs": [],
   "source": [
    "df_with_dummies['year'] = df_with_dummies['created_at'].dt.year"
   ]
  },
  {
   "cell_type": "code",
   "execution_count": 36,
   "metadata": {},
   "outputs": [],
   "source": [
    "df_with_dummies['month'] = df_with_dummies['created_at'].dt.month"
   ]
  },
  {
   "cell_type": "code",
   "execution_count": 37,
   "metadata": {},
   "outputs": [
    {
     "data": {
      "text/plain": [
       "array([11,  8,  9,  1, 12, 10,  3,  7,  5,  6,  2,  4])"
      ]
     },
     "execution_count": 37,
     "metadata": {},
     "output_type": "execute_result"
    }
   ],
   "source": [
    "df_with_dummies['month'].unique()"
   ]
  },
  {
   "cell_type": "code",
   "execution_count": 38,
   "metadata": {},
   "outputs": [
    {
     "name": "stdout",
     "output_type": "stream",
     "text": [
      "state         0         1         2\n",
      "month                              \n",
      "1      0.090267  0.361720  0.548012\n",
      "2      0.159504  0.350471  0.490024\n",
      "3      0.047663  0.378714  0.573624\n",
      "4      0.003681  0.408241  0.588078\n",
      "5      0.001716  0.405857  0.592427\n",
      "6      0.002581  0.426754  0.570665\n",
      "7      0.005030  0.474489  0.520480\n",
      "8      0.005357  0.419670  0.574973\n",
      "9      0.009947  0.399005  0.591047\n",
      "10     0.015485  0.398502  0.586013\n",
      "11     0.019218  0.418093  0.562689\n",
      "12     0.037848  0.411188  0.550964\n"
     ]
    }
   ],
   "source": [
    "grouped = df_with_dummies.groupby(['month', 'state']).size().reset_index(name='count')\n",
    "total_counts = grouped.groupby('month')['count'].sum().reset_index(name='total_count')\n",
    "grouped = pd.merge(grouped, total_counts, on='month')\n",
    "grouped['share'] = grouped['count'] / grouped['total_count']\n",
    "pivot_table = grouped.pivot_table(index='month', columns='state', values='share', fill_value=0)\n",
    "print(pivot_table)"
   ]
  },
  {
   "cell_type": "code",
   "execution_count": 39,
   "metadata": {},
   "outputs": [
    {
     "name": "stdout",
     "output_type": "stream",
     "text": [
      "    month  state  count  total_count     share\n",
      "2       1      2  10946        19974  0.548012\n",
      "8       3      2  10639        18547  0.573624\n",
      "29     10      2  10407        17759  0.586013\n",
      "14      5      2  10358        17484  0.592427\n",
      "23      8      2  10196        17733  0.574973\n",
      "20      7      2  10140        19482  0.520480\n",
      "26      9      2  10101        17090  0.591047\n",
      "11      4      2   9905        16843  0.588078\n",
      "5       2      2   9407        19197  0.490024\n",
      "17      6      2   9287        16274  0.570665\n",
      "32     11      2   9106        16183  0.562689\n",
      "35     12      2   6973        12656  0.550964\n"
     ]
    }
   ],
   "source": [
    "filtered_grouped = grouped[grouped['state'] == 2]\n",
    "\n",
    "sorted_grouped = filtered_grouped.sort_values(by='count', ascending=False)\n",
    "\n",
    "print(sorted_grouped)"
   ]
  },
  {
   "cell_type": "code",
   "execution_count": 40,
   "metadata": {},
   "outputs": [
    {
     "name": "stdout",
     "output_type": "stream",
     "text": [
      "    month  state  count  total_count     share\n",
      "2       1      2  10946        19974  0.548012\n",
      "8       3      2  10639        18547  0.573624\n",
      "29     10      2  10407        17759  0.586013\n",
      "14      5      2  10358        17484  0.592427\n",
      "23      8      2  10196        17733  0.574973\n",
      "20      7      2  10140        19482  0.520480\n",
      "26      9      2  10101        17090  0.591047\n",
      "11      4      2   9905        16843  0.588078\n",
      "5       2      2   9407        19197  0.490024\n",
      "17      6      2   9287        16274  0.570665\n",
      "32     11      2   9106        16183  0.562689\n",
      "35     12      2   6973        12656  0.550964\n"
     ]
    }
   ],
   "source": [
    "filtered_grouped = grouped[grouped['state'] == 2]\n",
    "\n",
    "sorted_grouped = filtered_grouped.sort_values(by='count', ascending=False)\n",
    "\n",
    "print(sorted_grouped)"
   ]
  },
  {
   "cell_type": "markdown",
   "metadata": {},
   "source": [
    "Import saved file as new Dataframe df"
   ]
  },
  {
   "cell_type": "code",
   "execution_count": 41,
   "metadata": {},
   "outputs": [],
   "source": [
    "df = pd.read_csv('data\\Final_Data.csv')"
   ]
  },
  {
   "cell_type": "code",
   "execution_count": 42,
   "metadata": {},
   "outputs": [
    {
     "name": "stdout",
     "output_type": "stream",
     "text": [
      "<class 'pandas.core.frame.DataFrame'>\n",
      "RangeIndex: 209222 entries, 0 to 209221\n",
      "Data columns (total 8 columns):\n",
      " #   Column                      Non-Null Count   Dtype  \n",
      "---  ------                      --------------   -----  \n",
      " 0   created_at                  209222 non-null  object \n",
      " 1   goal                        209222 non-null  float64\n",
      " 2   state                       209222 non-null  int64  \n",
      " 3   country_new                 209222 non-null  int64  \n",
      " 4   category_num                209222 non-null  int64  \n",
      " 5   disable_communication_True  209222 non-null  bool   \n",
      " 6   is_starrable_True           209222 non-null  bool   \n",
      " 7   staff_pick_True             209222 non-null  bool   \n",
      "dtypes: bool(3), float64(1), int64(3), object(1)\n",
      "memory usage: 8.6+ MB\n"
     ]
    }
   ],
   "source": [
    "df.info()"
   ]
  },
  {
   "cell_type": "code",
   "execution_count": 43,
   "metadata": {},
   "outputs": [
    {
     "data": {
      "text/html": [
       "<div>\n",
       "<style scoped>\n",
       "    .dataframe tbody tr th:only-of-type {\n",
       "        vertical-align: middle;\n",
       "    }\n",
       "\n",
       "    .dataframe tbody tr th {\n",
       "        vertical-align: top;\n",
       "    }\n",
       "\n",
       "    .dataframe thead th {\n",
       "        text-align: right;\n",
       "    }\n",
       "</style>\n",
       "<table border=\"1\" class=\"dataframe\">\n",
       "  <thead>\n",
       "    <tr style=\"text-align: right;\">\n",
       "      <th></th>\n",
       "      <th>goal</th>\n",
       "      <th>state</th>\n",
       "      <th>country_new</th>\n",
       "      <th>category_num</th>\n",
       "    </tr>\n",
       "  </thead>\n",
       "  <tbody>\n",
       "    <tr>\n",
       "      <th>count</th>\n",
       "      <td>2.092220e+05</td>\n",
       "      <td>209222.000000</td>\n",
       "      <td>209222.000000</td>\n",
       "      <td>209222.000000</td>\n",
       "    </tr>\n",
       "    <tr>\n",
       "      <th>mean</th>\n",
       "      <td>4.917604e+04</td>\n",
       "      <td>1.526493</td>\n",
       "      <td>1.705184</td>\n",
       "      <td>66.307023</td>\n",
       "    </tr>\n",
       "    <tr>\n",
       "      <th>std</th>\n",
       "      <td>1.179427e+06</td>\n",
       "      <td>0.564966</td>\n",
       "      <td>3.906700</td>\n",
       "      <td>43.699578</td>\n",
       "    </tr>\n",
       "    <tr>\n",
       "      <th>min</th>\n",
       "      <td>1.000000e-02</td>\n",
       "      <td>0.000000</td>\n",
       "      <td>0.000000</td>\n",
       "      <td>0.000000</td>\n",
       "    </tr>\n",
       "    <tr>\n",
       "      <th>25%</th>\n",
       "      <td>1.500000e+03</td>\n",
       "      <td>1.000000</td>\n",
       "      <td>0.000000</td>\n",
       "      <td>27.000000</td>\n",
       "    </tr>\n",
       "    <tr>\n",
       "      <th>50%</th>\n",
       "      <td>5.000000e+03</td>\n",
       "      <td>2.000000</td>\n",
       "      <td>0.000000</td>\n",
       "      <td>65.000000</td>\n",
       "    </tr>\n",
       "    <tr>\n",
       "      <th>75%</th>\n",
       "      <td>1.500000e+04</td>\n",
       "      <td>2.000000</td>\n",
       "      <td>1.000000</td>\n",
       "      <td>99.000000</td>\n",
       "    </tr>\n",
       "    <tr>\n",
       "      <th>max</th>\n",
       "      <td>1.000000e+08</td>\n",
       "      <td>2.000000</td>\n",
       "      <td>21.000000</td>\n",
       "      <td>158.000000</td>\n",
       "    </tr>\n",
       "  </tbody>\n",
       "</table>\n",
       "</div>"
      ],
      "text/plain": [
       "               goal          state    country_new   category_num\n",
       "count  2.092220e+05  209222.000000  209222.000000  209222.000000\n",
       "mean   4.917604e+04       1.526493       1.705184      66.307023\n",
       "std    1.179427e+06       0.564966       3.906700      43.699578\n",
       "min    1.000000e-02       0.000000       0.000000       0.000000\n",
       "25%    1.500000e+03       1.000000       0.000000      27.000000\n",
       "50%    5.000000e+03       2.000000       0.000000      65.000000\n",
       "75%    1.500000e+04       2.000000       1.000000      99.000000\n",
       "max    1.000000e+08       2.000000      21.000000     158.000000"
      ]
     },
     "execution_count": 43,
     "metadata": {},
     "output_type": "execute_result"
    }
   ],
   "source": [
    "df.describe()"
   ]
  },
  {
   "cell_type": "code",
   "execution_count": 44,
   "metadata": {},
   "outputs": [
    {
     "data": {
      "text/plain": [
       "' def remove_outliers_below_25th_percentile(df, column):\\n    Q1 = df[\\'converted_pledged_amount\\'].quantile(0.25)\\n    return df[df[\\'converted_pledged_amount\\'] <= Q1]\\n\\n# Remove outliers for each column\\ndf_clean = df.copy()\\nfor column in df_clean.columns:\\n    df_clean = remove_outliers_below_25th_percentile(df_clean, column)\\n\\nprint(\"Original DataFrame:\\n\", df)\\nprint(\"\\nCleaned DataFrame:\\n\", df_clean) '"
      ]
     },
     "execution_count": 44,
     "metadata": {},
     "output_type": "execute_result"
    }
   ],
   "source": [
    "\"\"\" def remove_outliers_below_25th_percentile(df, column):\n",
    "    Q1 = df['converted_pledged_amount'].quantile(0.25)\n",
    "    return df[df['converted_pledged_amount'] <= Q1]\n",
    "\n",
    "# Remove outliers for each column\n",
    "df_clean = df.copy()\n",
    "for column in df_clean.columns:\n",
    "    df_clean = remove_outliers_below_25th_percentile(df_clean, column)\n",
    "\n",
    "print(\"Original DataFrame:\\n\", df)\n",
    "print(\"\\nCleaned DataFrame:\\n\", df_clean) \"\"\""
   ]
  },
  {
   "cell_type": "markdown",
   "metadata": {},
   "source": [
    "# 6. Predictive Modeling"
   ]
  },
  {
   "cell_type": "markdown",
   "metadata": {},
   "source": [
    "### 6.2 Train-Test-Split"
   ]
  },
  {
   "cell_type": "markdown",
   "metadata": {},
   "source": [
    "Checking if data needs to be stratified"
   ]
  },
  {
   "cell_type": "code",
   "execution_count": 45,
   "metadata": {},
   "outputs": [
    {
     "name": "stdout",
     "output_type": "stream",
     "text": [
      "Class Counts:\n",
      "state\n",
      "2    117465\n",
      "1     84446\n",
      "0      7311\n",
      "Name: count, dtype: int64\n",
      "\n",
      "Class Proportions:\n",
      "state\n",
      "2    0.561437\n",
      "1    0.403619\n",
      "0    0.034944\n",
      "Name: proportion, dtype: float64\n"
     ]
    }
   ],
   "source": [
    "# Calculate class distribution\n",
    "class_counts = df['state'].value_counts()\n",
    "# Calculate class proportions\n",
    "class_proportions = df['state'].value_counts(normalize=True)\n",
    "# Display the results\n",
    "print(\"Class Counts:\")\n",
    "print(class_counts)\n",
    "print(\"\\nClass Proportions:\")\n",
    "print(class_proportions)"
   ]
  },
  {
   "cell_type": "code",
   "execution_count": 46,
   "metadata": {},
   "outputs": [],
   "source": [
    "# Exclude \"live\" data from dataset to later test on unseen data\n",
    "df_filtered = df[df['state'] != 0]"
   ]
  },
  {
   "cell_type": "markdown",
   "metadata": {},
   "source": [
    "### 6.3 Preprocessing"
   ]
  },
  {
   "cell_type": "code",
   "execution_count": 103,
   "metadata": {},
   "outputs": [],
   "source": [
    "from sklearn.preprocessing import StandardScaler, MinMaxScaler\n",
    "from sklearn.model_selection import train_test_split, cross_val_score, RandomizedSearchCV\n",
    "from sklearn.linear_model import LinearRegression, RidgeClassifier, RidgeClassifierCV, LassoCV\n",
    "from sklearn.metrics import mean_squared_error, r2_score, f1_score, accuracy_score, classification_report, precision_score, confusion_matrix, recall_score, ConfusionMatrixDisplay"
   ]
  },
  {
   "cell_type": "markdown",
   "metadata": {},
   "source": [
    "Scaling"
   ]
  },
  {
   "cell_type": "markdown",
   "metadata": {},
   "source": [
    "Prepare Datetime columns for scaling"
   ]
  },
  {
   "cell_type": "code",
   "execution_count": 104,
   "metadata": {},
   "outputs": [
    {
     "name": "stdout",
     "output_type": "stream",
     "text": [
      "<class 'pandas.core.frame.DataFrame'>\n",
      "Index: 201911 entries, 1 to 209221\n",
      "Data columns (total 8 columns):\n",
      " #   Column                      Non-Null Count   Dtype  \n",
      "---  ------                      --------------   -----  \n",
      " 0   created_at                  201911 non-null  int32  \n",
      " 1   goal                        201911 non-null  float64\n",
      " 2   state                       201911 non-null  int64  \n",
      " 3   country_new                 201911 non-null  int64  \n",
      " 4   category_num                201911 non-null  int64  \n",
      " 5   disable_communication_True  201911 non-null  bool   \n",
      " 6   is_starrable_True           201911 non-null  bool   \n",
      " 7   staff_pick_True             201911 non-null  bool   \n",
      "dtypes: bool(3), float64(1), int32(1), int64(3)\n",
      "memory usage: 9.1 MB\n"
     ]
    }
   ],
   "source": [
    "df_filtered.info()"
   ]
  },
  {
   "cell_type": "markdown",
   "metadata": {},
   "source": [
    "Change datetime columns to show only months"
   ]
  },
  {
   "cell_type": "code",
   "execution_count": 105,
   "metadata": {},
   "outputs": [],
   "source": [
    "df_filtered['created_at'] = pd.to_datetime(df_filtered['created_at'])\n",
    "\n",
    "df_filtered['created_at'] = df_filtered['created_at'].dt.month\n"
   ]
  },
  {
   "cell_type": "code",
   "execution_count": 106,
   "metadata": {},
   "outputs": [],
   "source": [
    "scaler = MinMaxScaler()\n",
    "scaled_data = scaler.fit_transform(df_filtered)\n",
    "df_scaled = pd.DataFrame(scaled_data, columns=df_filtered.columns)"
   ]
  },
  {
   "cell_type": "markdown",
   "metadata": {},
   "source": [
    "### 6.4 Modeling"
   ]
  },
  {
   "cell_type": "markdown",
   "metadata": {},
   "source": [
    "#### 6.4.1 knn-Classifier"
   ]
  },
  {
   "cell_type": "code",
   "execution_count": 51,
   "metadata": {},
   "outputs": [],
   "source": [
    "from sklearn.neighbors import KNeighborsClassifier"
   ]
  },
  {
   "cell_type": "code",
   "execution_count": 52,
   "metadata": {},
   "outputs": [],
   "source": [
    "X = df_scaled.drop(columns=['state'])\n",
    "y = df_scaled['state']\n",
    "\n",
    "X_train, X_test, y_train, y_test = train_test_split(X, y, test_size=0.3, random_state=42)"
   ]
  },
  {
   "cell_type": "code",
   "execution_count": 53,
   "metadata": {},
   "outputs": [
    {
     "data": {
      "text/html": [
       "<style>#sk-container-id-1 {color: black;background-color: white;}#sk-container-id-1 pre{padding: 0;}#sk-container-id-1 div.sk-toggleable {background-color: white;}#sk-container-id-1 label.sk-toggleable__label {cursor: pointer;display: block;width: 100%;margin-bottom: 0;padding: 0.3em;box-sizing: border-box;text-align: center;}#sk-container-id-1 label.sk-toggleable__label-arrow:before {content: \"▸\";float: left;margin-right: 0.25em;color: #696969;}#sk-container-id-1 label.sk-toggleable__label-arrow:hover:before {color: black;}#sk-container-id-1 div.sk-estimator:hover label.sk-toggleable__label-arrow:before {color: black;}#sk-container-id-1 div.sk-toggleable__content {max-height: 0;max-width: 0;overflow: hidden;text-align: left;background-color: #f0f8ff;}#sk-container-id-1 div.sk-toggleable__content pre {margin: 0.2em;color: black;border-radius: 0.25em;background-color: #f0f8ff;}#sk-container-id-1 input.sk-toggleable__control:checked~div.sk-toggleable__content {max-height: 200px;max-width: 100%;overflow: auto;}#sk-container-id-1 input.sk-toggleable__control:checked~label.sk-toggleable__label-arrow:before {content: \"▾\";}#sk-container-id-1 div.sk-estimator input.sk-toggleable__control:checked~label.sk-toggleable__label {background-color: #d4ebff;}#sk-container-id-1 div.sk-label input.sk-toggleable__control:checked~label.sk-toggleable__label {background-color: #d4ebff;}#sk-container-id-1 input.sk-hidden--visually {border: 0;clip: rect(1px 1px 1px 1px);clip: rect(1px, 1px, 1px, 1px);height: 1px;margin: -1px;overflow: hidden;padding: 0;position: absolute;width: 1px;}#sk-container-id-1 div.sk-estimator {font-family: monospace;background-color: #f0f8ff;border: 1px dotted black;border-radius: 0.25em;box-sizing: border-box;margin-bottom: 0.5em;}#sk-container-id-1 div.sk-estimator:hover {background-color: #d4ebff;}#sk-container-id-1 div.sk-parallel-item::after {content: \"\";width: 100%;border-bottom: 1px solid gray;flex-grow: 1;}#sk-container-id-1 div.sk-label:hover label.sk-toggleable__label {background-color: #d4ebff;}#sk-container-id-1 div.sk-serial::before {content: \"\";position: absolute;border-left: 1px solid gray;box-sizing: border-box;top: 0;bottom: 0;left: 50%;z-index: 0;}#sk-container-id-1 div.sk-serial {display: flex;flex-direction: column;align-items: center;background-color: white;padding-right: 0.2em;padding-left: 0.2em;position: relative;}#sk-container-id-1 div.sk-item {position: relative;z-index: 1;}#sk-container-id-1 div.sk-parallel {display: flex;align-items: stretch;justify-content: center;background-color: white;position: relative;}#sk-container-id-1 div.sk-item::before, #sk-container-id-1 div.sk-parallel-item::before {content: \"\";position: absolute;border-left: 1px solid gray;box-sizing: border-box;top: 0;bottom: 0;left: 50%;z-index: -1;}#sk-container-id-1 div.sk-parallel-item {display: flex;flex-direction: column;z-index: 1;position: relative;background-color: white;}#sk-container-id-1 div.sk-parallel-item:first-child::after {align-self: flex-end;width: 50%;}#sk-container-id-1 div.sk-parallel-item:last-child::after {align-self: flex-start;width: 50%;}#sk-container-id-1 div.sk-parallel-item:only-child::after {width: 0;}#sk-container-id-1 div.sk-dashed-wrapped {border: 1px dashed gray;margin: 0 0.4em 0.5em 0.4em;box-sizing: border-box;padding-bottom: 0.4em;background-color: white;}#sk-container-id-1 div.sk-label label {font-family: monospace;font-weight: bold;display: inline-block;line-height: 1.2em;}#sk-container-id-1 div.sk-label-container {text-align: center;}#sk-container-id-1 div.sk-container {/* jupyter's `normalize.less` sets `[hidden] { display: none; }` but bootstrap.min.css set `[hidden] { display: none !important; }` so we also need the `!important` here to be able to override the default hidden behavior on the sphinx rendered scikit-learn.org. See: https://github.com/scikit-learn/scikit-learn/issues/21755 */display: inline-block !important;position: relative;}#sk-container-id-1 div.sk-text-repr-fallback {display: none;}</style><div id=\"sk-container-id-1\" class=\"sk-top-container\"><div class=\"sk-text-repr-fallback\"><pre>KNeighborsClassifier()</pre><b>In a Jupyter environment, please rerun this cell to show the HTML representation or trust the notebook. <br />On GitHub, the HTML representation is unable to render, please try loading this page with nbviewer.org.</b></div><div class=\"sk-container\" hidden><div class=\"sk-item\"><div class=\"sk-estimator sk-toggleable\"><input class=\"sk-toggleable__control sk-hidden--visually\" id=\"sk-estimator-id-1\" type=\"checkbox\" checked><label for=\"sk-estimator-id-1\" class=\"sk-toggleable__label sk-toggleable__label-arrow\">KNeighborsClassifier</label><div class=\"sk-toggleable__content\"><pre>KNeighborsClassifier()</pre></div></div></div></div></div>"
      ],
      "text/plain": [
       "KNeighborsClassifier()"
      ]
     },
     "execution_count": 53,
     "metadata": {},
     "output_type": "execute_result"
    }
   ],
   "source": [
    "# Initialize the KNN model with k=5\n",
    "knn = KNeighborsClassifier(n_neighbors=5)\n",
    "\n",
    "# Train the model\n",
    "knn.fit(X_train, y_train)"
   ]
  },
  {
   "cell_type": "code",
   "execution_count": 83,
   "metadata": {},
   "outputs": [
    {
     "name": "stdout",
     "output_type": "stream",
     "text": [
      "Accuracy: 0.77\n",
      "Classification Report:\n",
      "              precision    recall  f1-score   support\n",
      "\n",
      "         0.0       0.73      0.73      0.73     25293\n",
      "         1.0       0.80      0.80      0.80     35281\n",
      "\n",
      "    accuracy                           0.77     60574\n",
      "   macro avg       0.77      0.77      0.77     60574\n",
      "weighted avg       0.77      0.77      0.77     60574\n",
      "\n",
      "Confusion Matrix:\n"
     ]
    },
    {
     "data": {
      "text/plain": [
       "array([[18354,  6939],\n",
       "       [ 6890, 28391]], dtype=int64)"
      ]
     },
     "execution_count": 83,
     "metadata": {},
     "output_type": "execute_result"
    }
   ],
   "source": [
    "# Predict on the test set\n",
    "y_pred = knn.predict(X_test)\n",
    "\n",
    "# Calculate accuracy\n",
    "accuracy = accuracy_score(y_test, y_pred)\n",
    "print(f'Accuracy: {accuracy:.2f}')\n",
    "\n",
    "# Print classification report\n",
    "print(\"Classification Report:\")\n",
    "print(classification_report(y_test, y_pred))\n",
    "\n",
    "# Print confusion matrix\n",
    "print(\"Confusion Matrix:\")\n",
    "confusion_matrix(y_test, y_pred)"
   ]
  },
  {
   "cell_type": "code",
   "execution_count": 86,
   "metadata": {},
   "outputs": [
    {
     "data": {
      "text/plain": [
       "<sklearn.metrics._plot.confusion_matrix.ConfusionMatrixDisplay at 0x29b89c77dd0>"
      ]
     },
     "execution_count": 86,
     "metadata": {},
     "output_type": "execute_result"
    },
    {
     "data": {
      "image/png": "[encoded data removed]",
      "text/plain": [
       "<Figure size 640x480 with 2 Axes>"
      ]
     },
     "metadata": {},
     "output_type": "display_data"
    }
   ],
   "source": [
    "confusion_matrix_plot = confusion_matrix(y_test, y_pred)\n",
    "\n",
    "ConfusionMatrixDisplay(confusion_matrix_plot).plot(cmap=\"Blues\")"
   ]
  },
  {
   "cell_type": "markdown",
   "metadata": {},
   "source": [
    "#### 6.4.2 Logistic Regression"
   ]
  },
  {
   "cell_type": "code",
   "execution_count": 93,
   "metadata": {},
   "outputs": [],
   "source": [
    "from sklearn.linear_model import LogisticRegression\n",
    "from sklearn.model_selection import train_test_split, GridSearchCV\n",
    "from sklearn.preprocessing import StandardScaler\n",
    "from sklearn.metrics import accuracy_score, confusion_matrix, classification_report"
   ]
  },
  {
   "cell_type": "code",
   "execution_count": 91,
   "metadata": {},
   "outputs": [],
   "source": [
    "df = pd.read_csv('data\\Final_Data.csv')\n",
    "df['created_at'] = pd.to_datetime(df['created_at'])\n",
    "df['created_at'] = df['created_at'].dt.month\n",
    "df_filtered = df[df['state'] != 0]\n",
    "df = df_filtered"
   ]
  },
  {
   "cell_type": "code",
   "execution_count": 92,
   "metadata": {},
   "outputs": [
    {
     "ename": "NameError",
     "evalue": "name 'GridSearchCV' is not defined",
     "output_type": "error",
     "traceback": [
      "\u001b[1;31m---------------------------------------------------------------------------\u001b[0m",
      "\u001b[1;31mNameError\u001b[0m                                 Traceback (most recent call last)",
      "Cell \u001b[1;32mIn[92], line 18\u001b[0m\n\u001b[0;32m     15\u001b[0m param_grid \u001b[38;5;241m=\u001b[39m {\u001b[38;5;124m'\u001b[39m\u001b[38;5;124mC\u001b[39m\u001b[38;5;124m'\u001b[39m: [\u001b[38;5;241m0.01\u001b[39m, \u001b[38;5;241m0.1\u001b[39m, \u001b[38;5;241m1\u001b[39m, \u001b[38;5;241m10\u001b[39m, \u001b[38;5;241m100\u001b[39m]}\n\u001b[0;32m     17\u001b[0m \u001b[38;5;66;03m# Set up GridSearchCV\u001b[39;00m\n\u001b[1;32m---> 18\u001b[0m grid_search \u001b[38;5;241m=\u001b[39m \u001b[43mGridSearchCV\u001b[49m(model, param_grid, cv\u001b[38;5;241m=\u001b[39m\u001b[38;5;241m5\u001b[39m, scoring\u001b[38;5;241m=\u001b[39m\u001b[38;5;124m'\u001b[39m\u001b[38;5;124maccuracy\u001b[39m\u001b[38;5;124m'\u001b[39m)\n\u001b[0;32m     19\u001b[0m grid_search\u001b[38;5;241m.\u001b[39mfit(X_train_scaled, y_train)\n\u001b[0;32m     21\u001b[0m \u001b[38;5;66;03m# Best parameters and model\u001b[39;00m\n",
      "\u001b[1;31mNameError\u001b[0m: name 'GridSearchCV' is not defined"
     ]
    }
   ],
   "source": [
    "# Target and features\n",
    "y = df['state']\n",
    "X = df.drop('state', axis=1)\n",
    "\n",
    "# Split the data\n",
    "X_train, X_test, y_train, y_test = train_test_split(X, y, test_size=0.3, random_state=42)\n",
    "\n",
    "# Scale the features\n",
    "scaler = StandardScaler()\n",
    "X_train_scaled = scaler.fit_transform(X_train)\n",
    "X_test_scaled = scaler.transform(X_test)\n",
    "\n",
    "# Define the model and parameter grid\n",
    "model = LogisticRegression(solver='lbfgs')  # Choose appropriate solver\n",
    "param_grid = {'C': [0.01, 0.1, 1, 10, 100]}\n",
    "\n",
    "# Set up GridSearchCV\n",
    "grid_search = GridSearchCV(model, param_grid, cv=5, scoring='accuracy')\n",
    "grid_search.fit(X_train_scaled, y_train)\n",
    "\n",
    "# Best parameters and model\n",
    "print(\"Best parameters found: \", grid_search.best_params_)\n",
    "print(\"Best cross-validation score: {:.2f}\".format(grid_search.best_score_))\n",
    "\n",
    "# Evaluate on the test set\n",
    "best_model = grid_search.best_estimator_\n",
    "y_pred = best_model.predict(X_test_scaled)\n",
    "print(classification_report(y_test, y_pred))"
   ]
  },
  {
   "cell_type": "code",
   "execution_count": 94,
   "metadata": {},
   "outputs": [
    {
     "name": "stdout",
     "output_type": "stream",
     "text": [
      "Confusion Matrix:\n",
      "[[    0     0     0]\n",
      " [18354  6939     0]\n",
      " [ 6890 28391     0]]\n"
     ]
    },
    {
     "data": {
      "image/png": "[encoded data removed]",
      "text/plain": [
       "<Figure size 800x600 with 2 Axes>"
      ]
     },
     "metadata": {},
     "output_type": "display_data"
    },
    {
     "name": "stdout",
     "output_type": "stream",
     "text": [
      "Classification Report:\n",
      "              precision    recall  f1-score   support\n",
      "\n",
      "         0.0       0.00      0.00      0.00         0\n",
      "         1.0       0.20      0.27      0.23     25293\n",
      "         2.0       0.00      0.00      0.00     35281\n",
      "\n",
      "    accuracy                           0.11     60574\n",
      "   macro avg       0.07      0.09      0.08     60574\n",
      "weighted avg       0.08      0.11      0.10     60574\n",
      "\n"
     ]
    },
    {
     "name": "stderr",
     "output_type": "stream",
     "text": [
      "c:\\NeueFische\\ml-project\\.venv\\Lib\\site-packages\\sklearn\\metrics\\_classification.py:1344: UndefinedMetricWarning: Precision and F-score are ill-defined and being set to 0.0 in labels with no predicted samples. Use `zero_division` parameter to control this behavior.\n",
      "  _warn_prf(average, modifier, msg_start, len(result))\n",
      "c:\\NeueFische\\ml-project\\.venv\\Lib\\site-packages\\sklearn\\metrics\\_classification.py:1344: UndefinedMetricWarning: Recall and F-score are ill-defined and being set to 0.0 in labels with no true samples. Use `zero_division` parameter to control this behavior.\n",
      "  _warn_prf(average, modifier, msg_start, len(result))\n",
      "c:\\NeueFische\\ml-project\\.venv\\Lib\\site-packages\\sklearn\\metrics\\_classification.py:1344: UndefinedMetricWarning: Precision and F-score are ill-defined and being set to 0.0 in labels with no predicted samples. Use `zero_division` parameter to control this behavior.\n",
      "  _warn_prf(average, modifier, msg_start, len(result))\n",
      "c:\\NeueFische\\ml-project\\.venv\\Lib\\site-packages\\sklearn\\metrics\\_classification.py:1344: UndefinedMetricWarning: Recall and F-score are ill-defined and being set to 0.0 in labels with no true samples. Use `zero_division` parameter to control this behavior.\n",
      "  _warn_prf(average, modifier, msg_start, len(result))\n",
      "c:\\NeueFische\\ml-project\\.venv\\Lib\\site-packages\\sklearn\\metrics\\_classification.py:1344: UndefinedMetricWarning: Precision and F-score are ill-defined and being set to 0.0 in labels with no predicted samples. Use `zero_division` parameter to control this behavior.\n",
      "  _warn_prf(average, modifier, msg_start, len(result))\n",
      "c:\\NeueFische\\ml-project\\.venv\\Lib\\site-packages\\sklearn\\metrics\\_classification.py:1344: UndefinedMetricWarning: Recall and F-score are ill-defined and being set to 0.0 in labels with no true samples. Use `zero_division` parameter to control this behavior.\n",
      "  _warn_prf(average, modifier, msg_start, len(result))\n"
     ]
    }
   ],
   "source": [
    "# Confusion Matrix\n",
    "cm = confusion_matrix(y_test, y_pred)\n",
    "print(\"Confusion Matrix:\")\n",
    "print(cm)\n",
    "\n",
    "# Plot Confusion Matrix\n",
    "df_cm = pd.DataFrame(cm, index=[i for i in range(cm.shape[0])], columns=[i for i in range(cm.shape[1])])\n",
    "plt.figure(figsize=(8, 6))\n",
    "sns.heatmap(df_cm, annot=True, fmt='d', cmap='Blues')\n",
    "plt.xlabel('Predicted Label')\n",
    "plt.ylabel('True Label')\n",
    "plt.title('Confusion Matrix for Best Model')\n",
    "plt.show()\n",
    "\n",
    "# Classification Report\n",
    "print(\"Classification Report:\")\n",
    "print(classification_report(y_test, y_pred))"
   ]
  },
  {
   "cell_type": "markdown",
   "metadata": {},
   "source": [
    "#### 6.4.3 Random Forest"
   ]
  },
  {
   "cell_type": "code",
   "execution_count": 95,
   "metadata": {},
   "outputs": [],
   "source": [
    "from sklearn.model_selection import train_test_split\n",
    "from sklearn.preprocessing import StandardScaler\n",
    "from sklearn.ensemble import RandomForestClassifier\n",
    "from sklearn.metrics import confusion_matrix, classification_report, accuracy_score\n",
    "import matplotlib.pyplot as plt\n",
    "from sklearn.metrics import precision_score, recall_score, roc_auc_score, roc_curve\n",
    "from sklearn.preprocessing import MinMaxScaler"
   ]
  },
  {
   "cell_type": "code",
   "execution_count": 96,
   "metadata": {},
   "outputs": [],
   "source": [
    "# Set random seed to ensure reproducible runs\n",
    "RSEED = 50"
   ]
  },
  {
   "cell_type": "code",
   "execution_count": 97,
   "metadata": {},
   "outputs": [],
   "source": [
    "# Target and features\n",
    "y = df['state']\n",
    "X = df.drop('state', axis=1)"
   ]
  },
  {
   "cell_type": "code",
   "execution_count": 98,
   "metadata": {},
   "outputs": [],
   "source": [
    "# Split data into training and test sets\n",
    "X_train, X_test, y_train, y_test = train_test_split(X, y, test_size=0.3, random_state=42)"
   ]
  },
  {
   "cell_type": "code",
   "execution_count": 100,
   "metadata": {},
   "outputs": [
    {
     "data": {
      "text/html": [
       "<style>#sk-container-id-4 {color: black;background-color: white;}#sk-container-id-4 pre{padding: 0;}#sk-container-id-4 div.sk-toggleable {background-color: white;}#sk-container-id-4 label.sk-toggleable__label {cursor: pointer;display: block;width: 100%;margin-bottom: 0;padding: 0.3em;box-sizing: border-box;text-align: center;}#sk-container-id-4 label.sk-toggleable__label-arrow:before {content: \"▸\";float: left;margin-right: 0.25em;color: #696969;}#sk-container-id-4 label.sk-toggleable__label-arrow:hover:before {color: black;}#sk-container-id-4 div.sk-estimator:hover label.sk-toggleable__label-arrow:before {color: black;}#sk-container-id-4 div.sk-toggleable__content {max-height: 0;max-width: 0;overflow: hidden;text-align: left;background-color: #f0f8ff;}#sk-container-id-4 div.sk-toggleable__content pre {margin: 0.2em;color: black;border-radius: 0.25em;background-color: #f0f8ff;}#sk-container-id-4 input.sk-toggleable__control:checked~div.sk-toggleable__content {max-height: 200px;max-width: 100%;overflow: auto;}#sk-container-id-4 input.sk-toggleable__control:checked~label.sk-toggleable__label-arrow:before {content: \"▾\";}#sk-container-id-4 div.sk-estimator input.sk-toggleable__control:checked~label.sk-toggleable__label {background-color: #d4ebff;}#sk-container-id-4 div.sk-label input.sk-toggleable__control:checked~label.sk-toggleable__label {background-color: #d4ebff;}#sk-container-id-4 input.sk-hidden--visually {border: 0;clip: rect(1px 1px 1px 1px);clip: rect(1px, 1px, 1px, 1px);height: 1px;margin: -1px;overflow: hidden;padding: 0;position: absolute;width: 1px;}#sk-container-id-4 div.sk-estimator {font-family: monospace;background-color: #f0f8ff;border: 1px dotted black;border-radius: 0.25em;box-sizing: border-box;margin-bottom: 0.5em;}#sk-container-id-4 div.sk-estimator:hover {background-color: #d4ebff;}#sk-container-id-4 div.sk-parallel-item::after {content: \"\";width: 100%;border-bottom: 1px solid gray;flex-grow: 1;}#sk-container-id-4 div.sk-label:hover label.sk-toggleable__label {background-color: #d4ebff;}#sk-container-id-4 div.sk-serial::before {content: \"\";position: absolute;border-left: 1px solid gray;box-sizing: border-box;top: 0;bottom: 0;left: 50%;z-index: 0;}#sk-container-id-4 div.sk-serial {display: flex;flex-direction: column;align-items: center;background-color: white;padding-right: 0.2em;padding-left: 0.2em;position: relative;}#sk-container-id-4 div.sk-item {position: relative;z-index: 1;}#sk-container-id-4 div.sk-parallel {display: flex;align-items: stretch;justify-content: center;background-color: white;position: relative;}#sk-container-id-4 div.sk-item::before, #sk-container-id-4 div.sk-parallel-item::before {content: \"\";position: absolute;border-left: 1px solid gray;box-sizing: border-box;top: 0;bottom: 0;left: 50%;z-index: -1;}#sk-container-id-4 div.sk-parallel-item {display: flex;flex-direction: column;z-index: 1;position: relative;background-color: white;}#sk-container-id-4 div.sk-parallel-item:first-child::after {align-self: flex-end;width: 50%;}#sk-container-id-4 div.sk-parallel-item:last-child::after {align-self: flex-start;width: 50%;}#sk-container-id-4 div.sk-parallel-item:only-child::after {width: 0;}#sk-container-id-4 div.sk-dashed-wrapped {border: 1px dashed gray;margin: 0 0.4em 0.5em 0.4em;box-sizing: border-box;padding-bottom: 0.4em;background-color: white;}#sk-container-id-4 div.sk-label label {font-family: monospace;font-weight: bold;display: inline-block;line-height: 1.2em;}#sk-container-id-4 div.sk-label-container {text-align: center;}#sk-container-id-4 div.sk-container {/* jupyter's `normalize.less` sets `[hidden] { display: none; }` but bootstrap.min.css set `[hidden] { display: none !important; }` so we also need the `!important` here to be able to override the default hidden behavior on the sphinx rendered scikit-learn.org. See: https://github.com/scikit-learn/scikit-learn/issues/21755 */display: inline-block !important;position: relative;}#sk-container-id-4 div.sk-text-repr-fallback {display: none;}</style><div id=\"sk-container-id-4\" class=\"sk-top-container\"><div class=\"sk-text-repr-fallback\"><pre>RandomForestClassifier(random_state=42)</pre><b>In a Jupyter environment, please rerun this cell to show the HTML representation or trust the notebook. <br />On GitHub, the HTML representation is unable to render, please try loading this page with nbviewer.org.</b></div><div class=\"sk-container\" hidden><div class=\"sk-item\"><div class=\"sk-estimator sk-toggleable\"><input class=\"sk-toggleable__control sk-hidden--visually\" id=\"sk-estimator-id-4\" type=\"checkbox\" checked><label for=\"sk-estimator-id-4\" class=\"sk-toggleable__label sk-toggleable__label-arrow\">RandomForestClassifier</label><div class=\"sk-toggleable__content\"><pre>RandomForestClassifier(random_state=42)</pre></div></div></div></div></div>"
      ],
      "text/plain": [
       "RandomForestClassifier(random_state=42)"
      ]
     },
     "execution_count": 100,
     "metadata": {},
     "output_type": "execute_result"
    }
   ],
   "source": [
    "# Initialize Random Forest Classifier\n",
    "model = RandomForestClassifier(random_state=42)\n",
    "\n",
    "# Train the model\n",
    "model.fit(X_train, y_train) # Use X_train if not scaling"
   ]
  },
  {
   "cell_type": "code",
   "execution_count": 101,
   "metadata": {},
   "outputs": [],
   "source": [
    "# Make predictions on the test set\n",
    "y_pred = model.predict(X_test)  # Use X_test if not scaling"
   ]
  },
  {
   "cell_type": "code",
   "execution_count": 102,
   "metadata": {},
   "outputs": [
    {
     "name": "stdout",
     "output_type": "stream",
     "text": [
      "Confusion Matrix:\n",
      "[[17753  7540]\n",
      " [ 6336 28945]]\n",
      "\n",
      "Classification Report:\n",
      "              precision    recall  f1-score   support\n",
      "\n",
      "           1       0.74      0.70      0.72     25293\n",
      "           2       0.79      0.82      0.81     35281\n",
      "\n",
      "    accuracy                           0.77     60574\n",
      "   macro avg       0.77      0.76      0.76     60574\n",
      "weighted avg       0.77      0.77      0.77     60574\n",
      "\n",
      "Accuracy: 0.77\n"
     ]
    }
   ],
   "source": [
    "# Confusion Matrix\n",
    "conf_matrix = confusion_matrix(y_test, y_pred)\n",
    "print(\"Confusion Matrix:\")\n",
    "print(conf_matrix)\n",
    "\n",
    "# Classification Report\n",
    "print(\"\\nClassification Report:\")\n",
    "print(classification_report(y_test, y_pred))\n",
    "\n",
    "# Accuracy\n",
    "accuracy = accuracy_score(y_test, y_pred)\n",
    "print(f\"Accuracy: {accuracy:.2f}\")"
   ]
  },
  {
   "cell_type": "markdown",
   "metadata": {},
   "source": [
    "### 6.5 Model Tuning"
   ]
  },
  {
   "cell_type": "markdown",
   "metadata": {},
   "source": [
    "#### 6.5.1 knn Hyperparameter Tuning Using Grid Search"
   ]
  },
  {
   "cell_type": "code",
   "execution_count": 56,
   "metadata": {},
   "outputs": [
    {
     "data": {
      "text/plain": [
       "' from sklearn.model_selection import GridSearchCV\\n\\nparam_grid = {\\n    \\'n_neighbors\\': np.arange(5, 15),\\n    \\'weights\\': [\\'uniform\\', \\'distance\\'],\\n    \\'metric\\': [\\'euclidean\\', \\'manhattan\\', \\'minkowski\\']\\n}\\n\\nknn = KNeighborsClassifier()\\ngrid = GridSearchCV(knn, param_grid, cv=5, scoring=\\'accuracy\\')\\ngrid.fit(X_train, y_train)\\n\\nprint(\"Best parameters:\", grid.best_params_)\\nprint(\"Best cross-validation accuracy:\", grid.best_score_) '"
      ]
     },
     "execution_count": 56,
     "metadata": {},
     "output_type": "execute_result"
    }
   ],
   "source": [
    "\"\"\" from sklearn.model_selection import GridSearchCV\n",
    "\n",
    "param_grid = {\n",
    "    'n_neighbors': np.arange(5, 15),\n",
    "    'weights': ['uniform', 'distance'],\n",
    "    'metric': ['euclidean', 'manhattan', 'minkowski']\n",
    "}\n",
    "\n",
    "knn = KNeighborsClassifier()\n",
    "grid = GridSearchCV(knn, param_grid, cv=5, scoring='accuracy')\n",
    "grid.fit(X_train, y_train)\n",
    "\n",
    "print(\"Best parameters:\", grid.best_params_)\n",
    "print(\"Best cross-validation accuracy:\", grid.best_score_) \"\"\"\n"
   ]
  },
  {
   "cell_type": "markdown",
   "metadata": {},
   "source": [
    "#### 6.5.1 knn Hyperparameter Tuning to improve Precision"
   ]
  },
  {
   "cell_type": "code",
   "execution_count": 108,
   "metadata": {},
   "outputs": [],
   "source": [
    "from sklearn.pipeline import Pipeline\n",
    "from sklearn.metrics import precision_score, make_scorer"
   ]
  },
  {
   "cell_type": "code",
   "execution_count": 111,
   "metadata": {},
   "outputs": [
    {
     "name": "stdout",
     "output_type": "stream",
     "text": [
      "Fitting 5 folds for each of 60 candidates, totalling 300 fits\n",
      "Best parameters found: {'metric': 'manhattan', 'n_neighbors': 14, 'weights': 'distance'}\n",
      "Best precision score: 0.7188\n",
      "Test set precision score: 0.7315\n"
     ]
    }
   ],
   "source": [
    "# Define the parameter grid for GridSearchCV\n",
    "param_grid = {\n",
    "    'n_neighbors': np.arange(5, 15),  # Testing different k values\n",
    "    'weights': ['uniform', 'distance'],  # Using uniform and distance-based weighting\n",
    "    'metric': ['euclidean', 'manhattan', 'minkowski']  # Trying different distance metrics\n",
    "}\n",
    "\n",
    "knn = KNeighborsClassifier()\n",
    "\n",
    "# Define a precision scorer to optimize precision during GridSearchCV\n",
    "precision_scorer = make_scorer(precision_score, average='macro')\n",
    "\n",
    "# Apply GridSearchCV to find the best hyperparameters\n",
    "grid_search = GridSearchCV(knn, param_grid, cv=5, scoring=precision_scorer, n_jobs=-1, verbose=1)\n",
    "\n",
    "# Fit the model\n",
    "grid_search.fit(X_train, y_train)\n",
    "\n",
    "# Print the best parameters and the corresponding precision score\n",
    "print(f\"Best parameters found: {grid_search.best_params_}\")\n",
    "print(f\"Best precision score: {grid_search.best_score_:.4f}\")\n",
    "\n",
    "# Evaluate on the test set\n",
    "y_pred = grid_search.predict(X_test)\n",
    "test_precision = precision_score(y_test, y_pred, average='macro')\n",
    "print(f\"Test set precision score: {test_precision:.4f}\")"
   ]
  },
  {
   "cell_type": "markdown",
   "metadata": {},
   "source": [
    "#### 6.5.2 knn Hyperparameter Tuning Using Randomized Search"
   ]
  },
  {
   "cell_type": "code",
   "execution_count": 57,
   "metadata": {},
   "outputs": [
    {
     "data": {
      "text/plain": [
       "\" param_dist = {\\n    'n_neighbors': np.arange(5, 20),\\n    'weights': ['uniform', 'distance'],\\n    'metric': ['euclidean', 'manhattan', 'minkowski']\\n}\\n\\nrandom_search = RandomizedSearchCV(knn, param_distributions=param_dist, n_iter=50, cv=5, random_state=42, n_jobs=-1)\\nrandom_search.fit(X_train, y_train) \""
      ]
     },
     "execution_count": 57,
     "metadata": {},
     "output_type": "execute_result"
    }
   ],
   "source": [
    "\"\"\" param_dist = {\n",
    "    'n_neighbors': np.arange(5, 20),\n",
    "    'weights': ['uniform', 'distance'],\n",
    "    'metric': ['euclidean', 'manhattan', 'minkowski']\n",
    "}\n",
    "\n",
    "random_search = RandomizedSearchCV(knn, param_distributions=param_dist, n_iter=50, cv=5, random_state=42, n_jobs=-1)\n",
    "random_search.fit(X_train, y_train) \"\"\""
   ]
  },
  {
   "cell_type": "code",
   "execution_count": 68,
   "metadata": {},
   "outputs": [
    {
     "data": {
      "text/plain": [
       "' print(\"Best parameters found: \", random_search.best_params_)\\nprint(\"Best cross-validation score: {:.2f}\".format(random_search.best_score_))\\n\\n# Evaluate on the test set\\ny_pred = random_search.predict(X_test)\\nprint(\"Test set accuracy: {:.2f}\".format(accuracy_score(y_test, y_pred))) '"
      ]
     },
     "execution_count": 68,
     "metadata": {},
     "output_type": "execute_result"
    }
   ],
   "source": [
    "\"\"\" print(\"Best parameters found: \", random_search.best_params_)\n",
    "print(\"Best cross-validation score: {:.2f}\".format(random_search.best_score_))\n",
    "\n",
    "# Evaluate on the test set\n",
    "y_pred = random_search.predict(X_test)\n",
    "print(\"Test set accuracy: {:.2f}\".format(accuracy_score(y_test, y_pred))) \"\"\""
   ]
  },
  {
   "cell_type": "code",
   "execution_count": 59,
   "metadata": {},
   "outputs": [
    {
     "data": {
      "text/html": [
       "<style>#sk-container-id-2 {color: black;background-color: white;}#sk-container-id-2 pre{padding: 0;}#sk-container-id-2 div.sk-toggleable {background-color: white;}#sk-container-id-2 label.sk-toggleable__label {cursor: pointer;display: block;width: 100%;margin-bottom: 0;padding: 0.3em;box-sizing: border-box;text-align: center;}#sk-container-id-2 label.sk-toggleable__label-arrow:before {content: \"▸\";float: left;margin-right: 0.25em;color: #696969;}#sk-container-id-2 label.sk-toggleable__label-arrow:hover:before {color: black;}#sk-container-id-2 div.sk-estimator:hover label.sk-toggleable__label-arrow:before {color: black;}#sk-container-id-2 div.sk-toggleable__content {max-height: 0;max-width: 0;overflow: hidden;text-align: left;background-color: #f0f8ff;}#sk-container-id-2 div.sk-toggleable__content pre {margin: 0.2em;color: black;border-radius: 0.25em;background-color: #f0f8ff;}#sk-container-id-2 input.sk-toggleable__control:checked~div.sk-toggleable__content {max-height: 200px;max-width: 100%;overflow: auto;}#sk-container-id-2 input.sk-toggleable__control:checked~label.sk-toggleable__label-arrow:before {content: \"▾\";}#sk-container-id-2 div.sk-estimator input.sk-toggleable__control:checked~label.sk-toggleable__label {background-color: #d4ebff;}#sk-container-id-2 div.sk-label input.sk-toggleable__control:checked~label.sk-toggleable__label {background-color: #d4ebff;}#sk-container-id-2 input.sk-hidden--visually {border: 0;clip: rect(1px 1px 1px 1px);clip: rect(1px, 1px, 1px, 1px);height: 1px;margin: -1px;overflow: hidden;padding: 0;position: absolute;width: 1px;}#sk-container-id-2 div.sk-estimator {font-family: monospace;background-color: #f0f8ff;border: 1px dotted black;border-radius: 0.25em;box-sizing: border-box;margin-bottom: 0.5em;}#sk-container-id-2 div.sk-estimator:hover {background-color: #d4ebff;}#sk-container-id-2 div.sk-parallel-item::after {content: \"\";width: 100%;border-bottom: 1px solid gray;flex-grow: 1;}#sk-container-id-2 div.sk-label:hover label.sk-toggleable__label {background-color: #d4ebff;}#sk-container-id-2 div.sk-serial::before {content: \"\";position: absolute;border-left: 1px solid gray;box-sizing: border-box;top: 0;bottom: 0;left: 50%;z-index: 0;}#sk-container-id-2 div.sk-serial {display: flex;flex-direction: column;align-items: center;background-color: white;padding-right: 0.2em;padding-left: 0.2em;position: relative;}#sk-container-id-2 div.sk-item {position: relative;z-index: 1;}#sk-container-id-2 div.sk-parallel {display: flex;align-items: stretch;justify-content: center;background-color: white;position: relative;}#sk-container-id-2 div.sk-item::before, #sk-container-id-2 div.sk-parallel-item::before {content: \"\";position: absolute;border-left: 1px solid gray;box-sizing: border-box;top: 0;bottom: 0;left: 50%;z-index: -1;}#sk-container-id-2 div.sk-parallel-item {display: flex;flex-direction: column;z-index: 1;position: relative;background-color: white;}#sk-container-id-2 div.sk-parallel-item:first-child::after {align-self: flex-end;width: 50%;}#sk-container-id-2 div.sk-parallel-item:last-child::after {align-self: flex-start;width: 50%;}#sk-container-id-2 div.sk-parallel-item:only-child::after {width: 0;}#sk-container-id-2 div.sk-dashed-wrapped {border: 1px dashed gray;margin: 0 0.4em 0.5em 0.4em;box-sizing: border-box;padding-bottom: 0.4em;background-color: white;}#sk-container-id-2 div.sk-label label {font-family: monospace;font-weight: bold;display: inline-block;line-height: 1.2em;}#sk-container-id-2 div.sk-label-container {text-align: center;}#sk-container-id-2 div.sk-container {/* jupyter's `normalize.less` sets `[hidden] { display: none; }` but bootstrap.min.css set `[hidden] { display: none !important; }` so we also need the `!important` here to be able to override the default hidden behavior on the sphinx rendered scikit-learn.org. See: https://github.com/scikit-learn/scikit-learn/issues/21755 */display: inline-block !important;position: relative;}#sk-container-id-2 div.sk-text-repr-fallback {display: none;}</style><div id=\"sk-container-id-2\" class=\"sk-top-container\"><div class=\"sk-text-repr-fallback\"><pre>KNeighborsClassifier(metric=&#x27;manhattan&#x27;, n_neighbors=14, weights=&#x27;distance&#x27;)</pre><b>In a Jupyter environment, please rerun this cell to show the HTML representation or trust the notebook. <br />On GitHub, the HTML representation is unable to render, please try loading this page with nbviewer.org.</b></div><div class=\"sk-container\" hidden><div class=\"sk-item\"><div class=\"sk-estimator sk-toggleable\"><input class=\"sk-toggleable__control sk-hidden--visually\" id=\"sk-estimator-id-2\" type=\"checkbox\" checked><label for=\"sk-estimator-id-2\" class=\"sk-toggleable__label sk-toggleable__label-arrow\">KNeighborsClassifier</label><div class=\"sk-toggleable__content\"><pre>KNeighborsClassifier(metric=&#x27;manhattan&#x27;, n_neighbors=14, weights=&#x27;distance&#x27;)</pre></div></div></div></div></div>"
      ],
      "text/plain": [
       "KNeighborsClassifier(metric='manhattan', n_neighbors=14, weights='distance')"
      ]
     },
     "execution_count": 59,
     "metadata": {},
     "output_type": "execute_result"
    }
   ],
   "source": [
    "# Initialize the KNN model with k=5\n",
    "knn = KNeighborsClassifier(n_neighbors=14, weights='distance', metric='manhattan')\n",
    "\n",
    "# Train the model\n",
    "knn.fit(X_train, y_train)"
   ]
  },
  {
   "cell_type": "code",
   "execution_count": 76,
   "metadata": {},
   "outputs": [
    {
     "data": {
      "image/png": "[encoded data removed]",
      "text/plain": [
       "<Figure size 640x480 with 2 Axes>"
      ]
     },
     "metadata": {},
     "output_type": "display_data"
    }
   ],
   "source": [
    "confusion_matrix_plot = confusion_matrix(y_test, y_pred)\n",
    "class_names = [\"Successful\", \"Failed\"]\n",
    "\n",
    "fig, ax = plt.subplots()\n",
    "\n",
    "ConfusionMatrixDisplay(confusion_matrix_plot, display_labels=class_names).plot(cmap=\"Greys\", ax=ax)\n",
    "\n",
    "ax.set_facecolor('orange') \n",
    "\n",
    "plt.title(\"Confusion Matrix for knn-model\")\n",
    "plt.show()"
   ]
  },
  {
   "cell_type": "code",
   "execution_count": null,
   "metadata": {},
   "outputs": [],
   "source": [
    "# Predict on the test set\n",
    "y_pred = knn.predict(X_test)\n",
    "\n",
    "# Calculate accuracy\n",
    "accuracy = accuracy_score(y_test, y_pred)\n",
    "print(f'Accuracy: {accuracy:.2f}')\n",
    "\n",
    "# Print classification report\n",
    "print(\"Classification Report:\")\n",
    "print(classification_report(y_test, y_pred))\n",
    "\n",
    "# Print confusion matrix\n",
    "print(\"Confusion Matrix:\")\n",
    "#confusion_matrix(y_test, y_pred)\n",
    "confusion_matrix"
   ]
  },
  {
   "cell_type": "markdown",
   "metadata": {},
   "source": [
    "## 7. Feature Importance"
   ]
  },
  {
   "cell_type": "code",
   "execution_count": 71,
   "metadata": {},
   "outputs": [
    {
     "name": "stdout",
     "output_type": "stream",
     "text": [
      "Feature 3: 0.1976 +/- 0.0026\n",
      "Feature 6: 0.0531 +/- 0.0011\n",
      "Feature 1: 0.0488 +/- 0.0006\n",
      "Feature 0: 0.0294 +/- 0.0012\n",
      "Feature 2: 0.0273 +/- 0.0007\n",
      "Feature 4: 0.0016 +/- 0.0001\n",
      "Feature 5: 0.0000 +/- 0.0000\n"
     ]
    }
   ],
   "source": [
    "from sklearn.inspection import permutation_importance\n",
    "\n",
    "accuracy_test = accuracy_score(y_test, knn.predict(X_test))\n",
    "\n",
    "perm_importance = permutation_importance(knn, X_test, y_test, n_repeats=5, random_state=42)\n",
    "for i in perm_importance.importances_mean.argsort()[::-1]:\n",
    "    print(f\"Feature {i}: {perm_importance.importances_mean[i]:.4f} +/- {perm_importance.importances_std[i]:.4f}\")\n"
   ]
  },
  {
   "cell_type": "code",
   "execution_count": 82,
   "metadata": {},
   "outputs": [
    {
     "data": {
      "image/png": "[encoded data removed]",
      "text/plain": [
       "<Figure size 1000x600 with 1 Axes>"
      ]
     },
     "metadata": {},
     "output_type": "display_data"
    }
   ],
   "source": [
    "# Plot the feature importance\n",
    "feature_names = df_scaled.drop(columns=['state'])\n",
    "importance_means = perm_importance.importances_mean\n",
    "importance_stds = perm_importance.importances_std\n",
    "\n",
    "plt.figure(figsize=(10, 6))\n",
    "plt.barh(range(len(importance_means)), importance_means, xerr=importance_stds, align='center', color='#F4E3D5')\n",
    "plt.yticks(np.arange(len(importance_means)), feature_names)\n",
    "plt.xlabel(\"Permutation Feature Importance\")\n",
    "plt.title(\"Feature Importance for KNN Model\")\n",
    "plt.gca().invert_yaxis()\n",
    "plt.show()"
   ]
  },
  {
   "cell_type": "markdown",
   "metadata": {},
   "source": [
    "## 8. FUTURE WORK: knn-Classifier with 'live'-data as test data"
   ]
  },
  {
   "cell_type": "markdown",
   "metadata": {},
   "source": [
    "1. Compare shape of Training- & Test-Set:"
   ]
  },
  {
   "cell_type": "code",
   "execution_count": null,
   "metadata": {},
   "outputs": [],
   "source": [
    "# Training\n",
    "df_scaled.info()"
   ]
  },
  {
   "cell_type": "code",
   "execution_count": null,
   "metadata": {},
   "outputs": [],
   "source": [
    "# Testing\n",
    "df_live = pd.read_csv('data\\Final_Data.csv')"
   ]
  },
  {
   "cell_type": "code",
   "execution_count": null,
   "metadata": {},
   "outputs": [],
   "source": [
    "df_live = df_live[df_live['state'] == 0]\n",
    "\n",
    "df_live['created_at'] = pd.to_datetime(df_live['created_at'])\n",
    "\n",
    "df_live['created_at'] = df_live['created_at'].dt.month"
   ]
  },
  {
   "cell_type": "code",
   "execution_count": null,
   "metadata": {},
   "outputs": [],
   "source": [
    "\"\"\" df_live.to_csv('Live_Data.csv', index=False) \"\"\""
   ]
  },
  {
   "cell_type": "code",
   "execution_count": null,
   "metadata": {},
   "outputs": [],
   "source": [
    "df_live_data = pd.read_csv('data\\Live_Data.csv')"
   ]
  },
  {
   "cell_type": "code",
   "execution_count": null,
   "metadata": {},
   "outputs": [],
   "source": [
    "knn_model = KNeighborsClassifier(n_neighbors=5)\n",
    "scaler = MinMaxScaler()\n",
    "\n",
    "X_train = df_scaled.drop(columns=['state'])\n",
    "y_train = df_scaled['state']"
   ]
  },
  {
   "cell_type": "code",
   "execution_count": null,
   "metadata": {},
   "outputs": [],
   "source": [
    "print(X_train.shape)\n",
    "print(y_train.shape)"
   ]
  },
  {
   "cell_type": "code",
   "execution_count": null,
   "metadata": {},
   "outputs": [],
   "source": [
    "knn_model.fit(X_train, y_train)"
   ]
  },
  {
   "cell_type": "code",
   "execution_count": null,
   "metadata": {},
   "outputs": [],
   "source": [
    "X_test = df_live.drop(columns=['state'])  # Drop the target column to get features\n",
    "y_test = df_live['state']  # Extract the target column"
   ]
  },
  {
   "cell_type": "code",
   "execution_count": null,
   "metadata": {},
   "outputs": [],
   "source": [
    "# Ensure the test data is preprocessed in the same way as the training data\n",
    "X_test_scaled = scaler.fit_transform(X_test)"
   ]
  },
  {
   "cell_type": "code",
   "execution_count": null,
   "metadata": {},
   "outputs": [],
   "source": [
    "print(X_test.shape)\n",
    "print(X_train.shape)"
   ]
  },
  {
   "cell_type": "code",
   "execution_count": null,
   "metadata": {},
   "outputs": [],
   "source": [
    "# Predict using the KNN model\n",
    "y_pred = knn_model.predict(X_test_scaled)"
   ]
  },
  {
   "cell_type": "code",
   "execution_count": null,
   "metadata": {},
   "outputs": [],
   "source": [
    "# Calculate accuracy\n",
    "accuracy = accuracy_score(y_test, y_pred)\n",
    "print(f'Accuracy: {accuracy:.2f}')\n",
    "\n",
    "# Print classification report\n",
    "print(\"Classification Report:\")\n",
    "print(classification_report(y_test, y_pred))\n",
    "\n",
    "# Print confusion matrix\n",
    "print(\"Confusion Matrix:\")\n",
    "print(confusion_matrix(y_test, y_pred))"
   ]
  },
  {
   "cell_type": "code",
   "execution_count": null,
   "metadata": {},
   "outputs": [],
   "source": [
    "confusion_matrix = confusion_matrix(y_test, y_pred)\n",
    "\n",
    "sns.heatmap(confusion_matrix, annot=True, fmt='d', cmap='Blues')\n",
    "plt.xlabel('Predicted')\n",
    "plt.ylabel('Actual')\n",
    "plt.title('Confusion Matrix')\n",
    "plt.show()"
   ]
  },
  {
   "cell_type": "markdown",
   "metadata": {},
   "source": [
    "Performance"
   ]
  },
  {
   "cell_type": "markdown",
   "metadata": {},
   "source": [
    "Compare with Baseline Model"
   ]
  },
  {
   "cell_type": "code",
   "execution_count": null,
   "metadata": {},
   "outputs": [],
   "source": [
    "\"\"\" from sklearn.dummy import DummyClassifier\n",
    "\n",
    "baseline_model = DummyClassifier(strategy='most_frequent')\n",
    "baseline_model.fit(X_train, y_train)\n",
    "baseline_pred = baseline_model.predict(X_test)\n",
    "\n",
    "baseline_accuracy = accuracy_score(y_test, baseline_pred)\n",
    "print(f'Baseline Accuracy: {baseline_accuracy}') \"\"\""
   ]
  },
  {
   "cell_type": "markdown",
   "metadata": {},
   "source": [
    "Misclassified Instances"
   ]
  },
  {
   "cell_type": "code",
   "execution_count": null,
   "metadata": {},
   "outputs": [],
   "source": [
    "# Find misclassified examples\n",
    "misclassified_indices = (y_test != y_pred)\n",
    "misclassified_samples = X_test[misclassified_indices]\n",
    "\n",
    "print(\"Misclassified Samples:\")\n",
    "print(misclassified_samples)"
   ]
  },
  {
   "cell_type": "markdown",
   "metadata": {},
   "source": [
    "Error Distribution Analysis"
   ]
  },
  {
   "cell_type": "code",
   "execution_count": null,
   "metadata": {},
   "outputs": [],
   "source": [
    "residuals = y_test - y_pred\n",
    "plt.hist(residuals, bins=20)\n",
    "plt.xlabel('Residuals')\n",
    "plt.ylabel('Frequency')\n",
    "plt.title('Residuals Distribution')\n",
    "plt.show()"
   ]
  }
 ],
 "metadata": {
  "kernelspec": {
   "display_name": "Python 3",
   "language": "python",
   "name": "python3"
  },
  "language_info": {
   "codemirror_mode": {
    "name": "ipython",
    "version": 3
   },
   "file_extension": ".py",
   "mimetype": "text/x-python",
   "name": "python",
   "nbconvert_exporter": "python",
   "pygments_lexer": "ipython3",
   "version": "3.11.3"
  }
 },
 "nbformat": 4,
 "nbformat_minor": 2
}
